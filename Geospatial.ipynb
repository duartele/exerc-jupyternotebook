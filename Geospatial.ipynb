{
  "nbformat": 4,
  "nbformat_minor": 0,
  "metadata": {
    "colab": {
      "name": "Geospatial.ipynb",
      "provenance": [],
      "authorship_tag": "ABX9TyPtdn80CiZq6F2zIXFACbpY",
      "include_colab_link": true
    },
    "kernelspec": {
      "name": "python3",
      "display_name": "Python 3"
    },
    "language_info": {
      "name": "python"
    }
  },
  "cells": [
    {
      "cell_type": "markdown",
      "metadata": {
        "id": "view-in-github",
        "colab_type": "text"
      },
      "source": [
        "<a href=\"https://colab.research.google.com/github/duartele/exerc-jupyternotebook/blob/main/Geospatial.ipynb\" target=\"_parent\"><img src=\"https://colab.research.google.com/assets/colab-badge.svg\" alt=\"Open In Colab\"/></a>"
      ]
    },
    {
      "cell_type": "markdown",
      "metadata": {
        "id": "RLEpdOu6qJ-Q"
      },
      "source": [
        "#  geospatial file formats, such as shapefile, GeoJSON, KML, and GPKG.\n",
        "GeoDataFrame is like a Pandas DataFrame's object"
      ]
    },
    {
      "cell_type": "code",
      "metadata": {
        "id": "rZRa5dfzpvAk"
      },
      "source": [
        "import geopandas as gpd"
      ],
      "execution_count": null,
      "outputs": []
    },
    {
      "cell_type": "code",
      "metadata": {
        "id": "1U-BasC6ryAh"
      },
      "source": [
        "# Read in the data\n",
        "full_data = gpd.read_file(\"../input/geospatial-learn-course-data/DEC_lands/DEC_lands/DEC_lands.shp\")\n",
        "\n",
        "# View the first five rows of the data\n",
        "full_data.head()"
      ],
      "execution_count": null,
      "outputs": []
    },
    {
      "cell_type": "code",
      "metadata": {
        "id": "AZQUEk5isary"
      },
      "source": [
        "data = full_data.loc[:, [\"CLASS\", \"COUNTY\", \"geometry\"]].copy()"
      ],
      "execution_count": null,
      "outputs": []
    },
    {
      "cell_type": "code",
      "metadata": {
        "id": "4GfFSH00sbuU"
      },
      "source": [
        "wild_lands = data.loc[data.CLASS.isin(['WILD FOREST', 'WILDERNESS'])].copy()"
      ],
      "execution_count": null,
      "outputs": []
    },
    {
      "cell_type": "markdown",
      "metadata": {
        "id": "gpDnn2FejZNd"
      },
      "source": [
        "## Each Geotable has a \"geometry\" column which has each entry is typically a Point, LineString, or Polygon."
      ]
    },
    {
      "cell_type": "code",
      "metadata": {
        "id": "kJeiiGTJjGuA"
      },
      "source": [
        "wild_lands.plot()"
      ],
      "execution_count": null,
      "outputs": []
    },
    {
      "cell_type": "code",
      "metadata": {
        "id": "yTBEbQS2kigu"
      },
      "source": [
        "# Campsites in New York state (Point)\n",
        "POI_data = gpd.read_file(\"../input/geospatial-learn-course-data/DEC_pointsinterest/DEC_pointsinterest/Decptsofinterest.shp\")\n",
        "campsites = POI_data.loc[POI_data.ASSET=='PRIMITIVE CAMPSITE'].copy()\n",
        "\n",
        "# Foot trails in New York state (LineString)\n",
        "roads_trails = gpd.read_file(\"../input/geospatial-learn-course-data/DEC_roadstrails/DEC_roadstrails/Decroadstrails.shp\")\n",
        "trails = roads_trails.loc[roads_trails.ASSET=='FOOT TRAIL'].copy()\n",
        "\n",
        "# County boundaries in New York state (Polygon)\n",
        "counties = gpd.read_file(\"../input/geospatial-learn-course-data/NY_county_boundaries/NY_county_boundaries/NY_county_boundaries.shp\")"
      ],
      "execution_count": null,
      "outputs": []
    },
    {
      "cell_type": "markdown",
      "metadata": {
        "id": "C6LBK4vXlWkl"
      },
      "source": [
        "Setting a value for ax ensures that all of the information is plotted on the same map."
      ]
    },
    {
      "cell_type": "code",
      "metadata": {
        "id": "reb4qFa3lZcA"
      },
      "source": [
        "# Define a base map with county boundaries\n",
        "ax = counties.plot(figsize=(10,10), color='none', edgecolor='gainsboro', zorder=3)\n",
        "\n",
        "# Add wild lands, campsites, and foot trails to the base map\n",
        "wild_lands.plot(color='lightgreen', ax=ax)\n",
        "campsites.plot(color='maroon', markersize=2, ax=ax)\n",
        "trails.plot(color='black', markersize=1, ax=ax)"
      ],
      "execution_count": null,
      "outputs": []
    },
    {
      "cell_type": "code",
      "metadata": {
        "id": "871AMdztsDgT"
      },
      "source": [
        "# Load a KML file containing island boundaries\n",
        "gpd.io.file.fiona.drvsupport.supported_drivers['KML'] = 'rw'\n",
        "PHL = gpd.read_file(\"../input/geospatial-learn-course-data/Philippines_AL258.kml\", driver='KML')\n",
        "PHL.head()"
      ],
      "execution_count": null,
      "outputs": []
    },
    {
      "cell_type": "markdown",
      "metadata": {
        "id": "hJCL67_i2aNl"
      },
      "source": [
        "## Seting the CRS (Coordinate Reference System)\n",
        "\n",
        "Automatically imported for us.\n",
        "However, when creating a GeoDataFrame from a CSV file, we have to set the CRS. EPSG 4326 corresponds to coordinates in latitude and longitude."
      ]
    },
    {
      "cell_type": "code",
      "metadata": {
        "id": "wybbvUya2kqQ"
      },
      "source": [
        "# Load a GeoDataFrame containing regions in Ghana\n",
        "regions = gpd.read_file(\"../input/geospatial-learn-course-data/ghana/ghana/Regions/Map_of_Regions_in_Ghana.shp\")\n",
        "print(regions.crs)"
      ],
      "execution_count": null,
      "outputs": []
    },
    {
      "cell_type": "code",
      "metadata": {
        "id": "Qo50wQBW3QIY"
      },
      "source": [
        "# Create a DataFrame with health facilities in Ghana\n",
        "facilities_df = pd.read_csv(\"../input/geospatial-learn-course-data/ghana/ghana/health_facilities.csv\")\n",
        "\n",
        "# Convert the DataFrame to a GeoDataFrame\n",
        "facilities = gpd.GeoDataFrame(facilities_df, geometry=gpd.points_from_xy(facilities_df.Longitude, facilities_df.Latitude))\n",
        "\n",
        "# Set the coordinate reference system (CRS) to EPSG 4326\n",
        "facilities.crs = {'init': 'epsg:4326'}\n",
        "\n",
        "# View the first five rows of the GeoDataFrame\n",
        "facilities.head()"
      ],
      "execution_count": null,
      "outputs": []
    },
    {
      "cell_type": "markdown",
      "metadata": {
        "id": "lGn-Mqdi4RkR"
      },
      "source": [
        "###Re-projecting - use to_crs()"
      ]
    },
    {
      "cell_type": "code",
      "metadata": {
        "id": "ECDu-vNR4ZkZ"
      },
      "source": [
        "#The to_crs() method modifies only the \"geometry\" column: all other columns are left as-is.\n",
        "facilities.to_crs(epsg=32630).head()"
      ],
      "execution_count": null,
      "outputs": []
    },
    {
      "cell_type": "code",
      "metadata": {
        "id": "VPLTzGAt5NrJ"
      },
      "source": [
        "# Get the x-coordinate of each point\n",
        "facilities.geometry.x.head()"
      ],
      "execution_count": null,
      "outputs": []
    },
    {
      "cell_type": "markdown",
      "metadata": {
        "id": "R7qciHxq6PE9"
      },
      "source": [
        "Exercise 1"
      ]
    },
    {
      "cell_type": "code",
      "metadata": {
        "id": "0j3TA9ao6QrQ"
      },
      "source": [
        "# Load the data and print the first 5 rows\n",
        "birds_df = pd.read_csv(\"../input/geospatial-learn-course-data/purple_martin.csv\", parse_dates=['timestamp'])\n",
        "print(\"There are {} different birds in the dataset.\".format(birds_df[\"tag-local-identifier\"].nunique()))\n",
        "birds_df.head()"
      ],
      "execution_count": null,
      "outputs": []
    },
    {
      "cell_type": "markdown",
      "metadata": {
        "id": "EkcwK0SZ_C0x"
      },
      "source": [
        "Exercise 2"
      ]
    },
    {
      "cell_type": "code",
      "metadata": {
        "id": "Azp2fHUo_B6K"
      },
      "source": [
        "ax = americas.plot(figsize=(10,10), color='white', linestyle=':', edgecolor='gray')\n",
        "birds.plot(ax=ax, markersize=10)\n",
        "# Uncomment to zoom in\n",
        "ax.set_xlim([-110, -30])\n",
        "ax.set_ylim([-30, 60])"
      ],
      "execution_count": null,
      "outputs": []
    },
    {
      "cell_type": "markdown",
      "metadata": {
        "id": "e1PTGvEkDa0K"
      },
      "source": [
        "Exercise 3"
      ]
    },
    {
      "cell_type": "code",
      "metadata": {
        "id": "0lMl4WxiDeCe"
      },
      "source": [
        "# GeoDataFrame showing path for each bird\n",
        "path_df = birds.groupby(\"tag-local-identifier\")['geometry'].apply(list).apply(lambda x: LineString(x)).reset_index()\n",
        "path_gdf = gpd.GeoDataFrame(path_df, geometry=path_df.geometry)\n",
        "path_gdf.crs = {'init' :'epsg:4326'}\n",
        "\n",
        "# GeoDataFrame showing starting point for each bird\n",
        "start_df = birds.groupby(\"tag-local-identifier\")['geometry'].apply(list).apply(lambda x: x[0]).reset_index()\n",
        "start_gdf = gpd.GeoDataFrame(start_df, geometry=start_df.geometry)\n",
        "start_gdf.crs = {'init' :'epsg:4326'}\n",
        "\n",
        "end_df = birds.groupby(\"tag-local-identifier\")['geometry'].apply(list).apply(lambda x: x[-1]).reset_index()\n",
        "end_gdf = gpd.GeoDataFrame(end_df, geometry=end_df.geometry)\n",
        "end_gdf.crs = {'init': 'epsg:4326'}"
      ],
      "execution_count": null,
      "outputs": []
    },
    {
      "cell_type": "markdown",
      "metadata": {
        "id": "k4PrJEpcHBV0"
      },
      "source": [
        "Exercise 4"
      ]
    },
    {
      "cell_type": "code",
      "metadata": {
        "id": "2huYUjeyHDHt"
      },
      "source": [
        "ax = americas.plot(figsize=(10, 10), color='white', linestyle=':', edgecolor='gray')\n",
        "\n",
        "start_gdf.plot(ax=ax, color='red',  markersize=30)\n",
        "path_gdf.plot(ax=ax, cmap='tab20b', linestyle='-', linewidth=1, zorder=1)\n",
        "end_gdf.plot(ax=ax, color='black', markersize=30)"
      ],
      "execution_count": null,
      "outputs": []
    },
    {
      "cell_type": "markdown",
      "metadata": {
        "id": "rLwen1BbLCco"
      },
      "source": [
        "Exercise 7"
      ]
    },
    {
      "cell_type": "code",
      "metadata": {
        "id": "9H6W21crLBVS"
      },
      "source": [
        "# Your code here: Calculate the total area of South America (in square kilometers)\n",
        "totalArea = sum(south_america.geometry.to_crs(epsg=3035).area) / 10**6"
      ],
      "execution_count": null,
      "outputs": []
    }
  ]
}