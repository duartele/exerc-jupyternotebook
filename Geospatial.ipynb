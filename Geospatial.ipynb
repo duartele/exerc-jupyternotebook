{
  "nbformat": 4,
  "nbformat_minor": 0,
  "metadata": {
    "colab": {
      "name": "Geospatial.ipynb",
      "provenance": [],
      "authorship_tag": "ABX9TyPMPicr9iqqWAAjtL0a1SAf",
      "include_colab_link": true
    },
    "kernelspec": {
      "name": "python3",
      "display_name": "Python 3"
    },
    "language_info": {
      "name": "python"
    }
  },
  "cells": [
    {
      "cell_type": "markdown",
      "metadata": {
        "id": "view-in-github",
        "colab_type": "text"
      },
      "source": [
        "<a href=\"https://colab.research.google.com/github/duartele/exerc-jupyternotebook/blob/main/Geospatial.ipynb\" target=\"_parent\"><img src=\"https://colab.research.google.com/assets/colab-badge.svg\" alt=\"Open In Colab\"/></a>"
      ]
    },
    {
      "cell_type": "markdown",
      "metadata": {
        "id": "RLEpdOu6qJ-Q"
      },
      "source": [
        "#  geospatial file formats, such as shapefile, GeoJSON, KML, and GPKG. "
      ]
    },
    {
      "cell_type": "code",
      "metadata": {
        "id": "rZRa5dfzpvAk"
      },
      "source": [
        "import geopandas as gpd"
      ],
      "execution_count": null,
      "outputs": []
    },
    {
      "cell_type": "code",
      "metadata": {
        "id": "1U-BasC6ryAh"
      },
      "source": [
        "# Read in the data\n",
        "full_data = gpd.read_file(\"../input/geospatial-learn-course-data/DEC_lands/DEC_lands/DEC_lands.shp\")\n",
        "\n",
        "# View the first five rows of the data\n",
        "full_data.head()"
      ],
      "execution_count": null,
      "outputs": []
    },
    {
      "cell_type": "code",
      "metadata": {
        "id": "AZQUEk5isary"
      },
      "source": [
        "data = full_data.loc[:, [\"CLASS\", \"COUNTY\", \"geometry\"]].copy()"
      ],
      "execution_count": null,
      "outputs": []
    },
    {
      "cell_type": "code",
      "metadata": {
        "id": "4GfFSH00sbuU"
      },
      "source": [
        ""
      ],
      "execution_count": null,
      "outputs": []
    }
  ]
}