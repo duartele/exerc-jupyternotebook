{
  "nbformat": 4,
  "nbformat_minor": 0,
  "metadata": {
    "colab": {
      "name": "Random_Forest_Extra.ipynb",
      "provenance": [],
      "authorship_tag": "ABX9TyNXCePYYQdpPxTXIBzs0uIp"
    },
    "kernelspec": {
      "name": "python3",
      "display_name": "Python 3"
    },
    "language_info": {
      "name": "python"
    }
  },
  "cells": [
    {
      "cell_type": "markdown",
      "source": [
        "# Imports"
      ],
      "metadata": {
        "id": "s-LXtBZhVZDR"
      }
    },
    {
      "cell_type": "code",
      "execution_count": null,
      "metadata": {
        "id": "uQqaOF0XP_ym"
      },
      "outputs": [],
      "source": [
        "import numpy as np\n",
        "import pandas as pd\n",
        "from sklearn import datasets as d\n",
        "from sklearn import model_selection as ms\n",
        "from sklearn import metrics as m\n",
        "from sklearn import tree as t\n",
        "from sklearn import ensemble as e"
      ]
    },
    {
      "cell_type": "markdown",
      "source": [
        "# Loading Data"
      ],
      "metadata": {
        "id": "965fsiKGRlXw"
      }
    },
    {
      "cell_type": "code",
      "source": [
        "iris = d.load_iris()"
      ],
      "metadata": {
        "id": "cLS1s0f6RjQs"
      },
      "execution_count": null,
      "outputs": []
    },
    {
      "cell_type": "code",
      "source": [
        "X = pd.DataFrame(iris.data, columns=iris.feature_names)\n",
        "y = pd.DataFrame(iris.target, columns=['Species'])"
      ],
      "metadata": {
        "id": "VKvf6CL7TtvW"
      },
      "execution_count": null,
      "outputs": []
    },
    {
      "cell_type": "code",
      "source": [
        "X_train, X_test, y_train, y_test = ms.train_test_split(X,y,test_size=20, random_state=100)"
      ],
      "metadata": {
        "id": "uQoMLHB7Twt8"
      },
      "execution_count": null,
      "outputs": []
    },
    {
      "cell_type": "markdown",
      "source": [
        "# Weak Learner - Just one depth - root node -> internal node"
      ],
      "metadata": {
        "id": "ltk3RcscQNrt"
      }
    },
    {
      "cell_type": "code",
      "source": [
        "one_tree = t.DecisionTreeClassifier(max_depth=1)"
      ],
      "metadata": {
        "id": "CmJS2iXIRZ8p"
      },
      "execution_count": null,
      "outputs": []
    },
    {
      "cell_type": "code",
      "source": [
        "#training\n",
        "model_one_tree = one_tree.fit(X_train,y_train)\n",
        "\n",
        "#predict\n",
        "pred_one_tree = model_one_tree.predict(X_test)\n",
        "\n",
        "#accuracy\n",
        "acc = m.accuracy_score(y_test,pred_one_tree)\n",
        "acc"
      ],
      "metadata": {
        "colab": {
          "base_uri": "https://localhost:8080/"
        },
        "id": "_z8Mw4ojQMjt",
        "outputId": "f170f0b2-d7b3-4e99-ff09-ba456865d8dd"
      },
      "execution_count": null,
      "outputs": [
        {
          "output_type": "execute_result",
          "data": {
            "text/plain": [
              "0.55"
            ]
          },
          "metadata": {},
          "execution_count": 21
        }
      ]
    },
    {
      "cell_type": "markdown",
      "source": [
        "# Random Forest - Several weak learner with bootstrap"
      ],
      "metadata": {
        "id": "8hvWsBCRQ9-M"
      }
    },
    {
      "cell_type": "code",
      "source": [
        "one_tree = t.DecisionTreeClassifier(max_depth=1,\n",
        "                                    splitter=\"best\",\n",
        "                                    max_features=\"sqrt\")"
      ],
      "metadata": {
        "id": "iDApOaPuZKc-"
      },
      "execution_count": null,
      "outputs": []
    },
    {
      "cell_type": "code",
      "source": [
        "#Multiple tree\n",
        "multi_tree =e.BaggingClassifier(base_estimator = one_tree,\n",
        "                  n_estimators = 1000,\n",
        "                  bootstrap = True)"
      ],
      "metadata": {
        "id": "uHupgKr-RIqT"
      },
      "execution_count": null,
      "outputs": []
    },
    {
      "cell_type": "code",
      "source": [
        "#training\n",
        "model_multi_tree = multi_tree.fit(X_train,np.ravel(y_train))\n",
        "\n",
        "#predict\n",
        "pred_multi_tree = model_multi_tree.predict(X_test)\n",
        "\n",
        "#Accuracy\n",
        "acc = m.accuracy_score(y_test, pred_multi_tree)\n",
        "acc"
      ],
      "metadata": {
        "colab": {
          "base_uri": "https://localhost:8080/"
        },
        "id": "k-kxE1ZOXI-d",
        "outputId": "070012d1-4a3f-4622-df02-9fbecff706ae"
      },
      "execution_count": null,
      "outputs": [
        {
          "output_type": "execute_result",
          "data": {
            "text/plain": [
              "0.9"
            ]
          },
          "metadata": {},
          "execution_count": 30
        }
      ]
    },
    {
      "cell_type": "markdown",
      "source": [
        "# Extra Tress - random splitter with no bootstrap"
      ],
      "metadata": {
        "id": "GX8N4QpnRJIF"
      }
    },
    {
      "cell_type": "code",
      "source": [
        "one_tree = t.DecisionTreeClassifier(max_depth=1,\n",
        "                                    splitter=\"random\",\n",
        "                                    max_features=\"sqrt\")"
      ],
      "metadata": {
        "id": "2SsTggzzRHuV"
      },
      "execution_count": null,
      "outputs": []
    },
    {
      "cell_type": "code",
      "source": [
        "#Multiple tree\n",
        "multi_tree =e.BaggingClassifier(base_estimator = one_tree,\n",
        "                  n_estimators = 1000,\n",
        "                  bootstrap = False)"
      ],
      "metadata": {
        "id": "h_VOhB5oZh9-"
      },
      "execution_count": null,
      "outputs": []
    },
    {
      "cell_type": "code",
      "source": [
        "#training\n",
        "model_multi_tree = multi_tree.fit(X_train,np.ravel(y_train))\n",
        "\n",
        "#predict\n",
        "pred_multi_tree = model_multi_tree.predict(X_test)\n",
        "\n",
        "#Accuracy\n",
        "acc = m.accuracy_score(y_test, pred_multi_tree)\n",
        "acc"
      ],
      "metadata": {
        "colab": {
          "base_uri": "https://localhost:8080/"
        },
        "id": "k6TbNxNUZjBC",
        "outputId": "4ac430c1-9984-491d-f54a-f75e86de15f9"
      },
      "execution_count": null,
      "outputs": [
        {
          "output_type": "execute_result",
          "data": {
            "text/plain": [
              "0.95"
            ]
          },
          "metadata": {},
          "execution_count": 33
        }
      ]
    }
  ]
}