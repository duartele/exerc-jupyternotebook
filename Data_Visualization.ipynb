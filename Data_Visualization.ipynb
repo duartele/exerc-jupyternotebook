{
  "nbformat": 4,
  "nbformat_minor": 0,
  "metadata": {
    "colab": {
      "name": "Data_Visualization.ipynb",
      "provenance": [],
      "authorship_tag": "ABX9TyMXirpFEolYm5yjEP6NuMQ9",
      "include_colab_link": true
    },
    "kernelspec": {
      "name": "python3",
      "display_name": "Python 3"
    },
    "language_info": {
      "name": "python"
    }
  },
  "cells": [
    {
      "cell_type": "markdown",
      "metadata": {
        "id": "view-in-github",
        "colab_type": "text"
      },
      "source": [
        "<a href=\"https://colab.research.google.com/github/duartele/exerc-jupyternotebook/blob/main/Data_Visualization.ipynb\" target=\"_parent\"><img src=\"https://colab.research.google.com/assets/colab-badge.svg\" alt=\"Open In Colab\"/></a>"
      ]
    },
    {
      "cell_type": "code",
      "metadata": {
        "id": "_QxCY8eZE4aG"
      },
      "source": [
        "import pandas as pd\n",
        "pd.plotting.register_matplotlib_converters()\n",
        "import matplotlib.pyplot as plt\n",
        "%matplotlib inline\n",
        "import seaborn as sns"
      ],
      "execution_count": null,
      "outputs": []
    },
    {
      "cell_type": "code",
      "metadata": {
        "id": "eqg9qLF3MhKB"
      },
      "source": [
        "list(spotify_data.columns)"
      ],
      "execution_count": null,
      "outputs": []
    },
    {
      "cell_type": "code",
      "metadata": {
        "id": "GkIHc8O4g5VD"
      },
      "source": [
        "sns.barplot(x=ign_data['Racing'], y=ign_data.index)"
      ],
      "execution_count": null,
      "outputs": []
    },
    {
      "cell_type": "code",
      "metadata": {
        "id": "yCsfnKbsjh1k"
      },
      "source": [
        "sns.scatterplot(x=insurance_data['bmi'], y=insurance_data['charges'])\n",
        "sns.regplot(x=insurance_data['bmi'], y=insurance_data['charges']) #create a regression plot\n",
        "sns.lmplot(x=\"bmi\", y=\"charges\", hue=\"smoker\", data=insurance_data) # create one regressions for each categorie of the hue"
      ],
      "execution_count": null,
      "outputs": []
    },
    {
      "cell_type": "code",
      "metadata": {
        "id": "X9T2nE8El6Zq"
      },
      "source": [
        "#categorical sccaterplot\n",
        "sns.swarmplot(x=insurance_data['smoker'],\n",
        "              y=insurance_data['charges'])"
      ],
      "execution_count": null,
      "outputs": []
    },
    {
      "cell_type": "code",
      "metadata": {
        "id": "70fquMeDhbdU"
      },
      "source": [
        "sns.heatmap(ign_data, annot=True)\n",
        "# Add label for horizontal axis\n",
        "plt.xlabel(\"Genre\")\n",
        "# Add label for vertical axis\n",
        "plt.title(\"Average Game Score, by Platform and Genre\")"
      ],
      "execution_count": null,
      "outputs": []
    },
    {
      "cell_type": "markdown",
      "metadata": {
        "id": "yRn-EPPbu5uF"
      },
      "source": [
        "Lineplot - Trends"
      ]
    },
    {
      "cell_type": "code",
      "metadata": {
        "id": "w1bVxAxkMoB_"
      },
      "source": [
        "# Change the style of the figure to the \"dark\" theme\n",
        "sns.set_style(\"dark\")\n",
        "#Seaborn has five different themes: (1)\"darkgrid\", (2)\"whitegrid\", (3)\"dark\", (4)\"white\", and (5)\"ticks\"\n",
        "\n",
        "plt.figure(figsize=(14,6))\n",
        "plt.title(\"Daily Global Streams of Popular Songs in 2017-2018\")\n",
        "\n",
        "# Line chart showing daily global streams of 'Shape of You'\n",
        "sns.lineplot(data=spotify_data['Shape of You'], label=\"Shape of You\")\n",
        "# Line chart showing daily global streams of 'Despacito'\n",
        "sns.lineplot(data=spotify_data['Despacito'], label=\"Despacito\")\n",
        "\n",
        "# Add label for horizontal axis\n",
        "plt.xlabel(\"Date\")"
      ],
      "execution_count": null,
      "outputs": []
    },
    {
      "cell_type": "markdown",
      "metadata": {
        "id": "h9CdpSOxfY3b"
      },
      "source": [
        "Histograms"
      ]
    },
    {
      "cell_type": "code",
      "metadata": {
        "id": "CMcY3BzwsyiK"
      },
      "source": [
        "sns.distplot(a=cancer_b_data['Area (mean)'], label=\"Benign\", kde=False)"
      ],
      "execution_count": null,
      "outputs": []
    },
    {
      "cell_type": "code",
      "metadata": {
        "id": "m1svw9UxfHUn"
      },
      "source": [
        "# KDE plot (kernel density estimate) \n",
        "sns.kdeplot(data=iris_data['Petal Length (cm)'], shade=True)"
      ],
      "execution_count": null,
      "outputs": []
    },
    {
      "cell_type": "code",
      "metadata": {
        "id": "lX2Im6RXgVch"
      },
      "source": [
        "# 2D KDE plot\n",
        "sns.jointplot(x=iris_data['Petal Length (cm)'], y=iris_data['Sepal Width (cm)'], kind=\"kde\")"
      ],
      "execution_count": null,
      "outputs": []
    }
  ]
}