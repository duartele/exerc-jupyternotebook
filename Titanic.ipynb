{
  "nbformat": 4,
  "nbformat_minor": 0,
  "metadata": {
    "colab": {
      "name": "Titanic.ipynb",
      "provenance": [],
      "authorship_tag": "ABX9TyOCZ5pH6EAS+l4DNX+WGGgh",
      "include_colab_link": true
    },
    "kernelspec": {
      "name": "python3",
      "display_name": "Python 3"
    },
    "language_info": {
      "name": "python"
    }
  },
  "cells": [
    {
      "cell_type": "markdown",
      "metadata": {
        "id": "view-in-github",
        "colab_type": "text"
      },
      "source": [
        "<a href=\"https://colab.research.google.com/github/duartele/exerc-jupyternotebook/blob/main/Titanic.ipynb\" target=\"_parent\"><img src=\"https://colab.research.google.com/assets/colab-badge.svg\" alt=\"Open In Colab\"/></a>"
      ]
    },
    {
      "cell_type": "markdown",
      "metadata": {
        "id": "f_MB_ZimhDV5"
      },
      "source": [
        "#Estudo sobre a base Titanic\n",
        "---\n",
        "1. Introdução\n",
        "\n",
        "  Titanic foi um navio luxuoso construido para ser 'infundavel'. Contudo, a embarcacao com 3.327 pessoas(892 tripulantes e 2.435 passageiros) colidiu com um iceberg levando a milhares de mortos (nao se sabe o numero exato de mortos devidos a inconsistencias nos documentos)\n",
        "  \n",
        "  O objetivo desses estudos é determinar se um indivíduo sobreviveu à viagem. \n",
        "1. Primeiras Análises\n",
        "\n",
        "  O primeiro passo é conhecermos a base.\n",
        "  Inicialmente temos 891 observacoes e 12 variaveis/features.\n",
        "  O numero total de sobreviventes da base eh 342 (38,38%)\n",
        "\n",
        "1. Escolha de Métodos\n",
        "1. Pré-processamento\n",
        "1. Análises Finais\n",
        "1. Conclusão\n"
      ]
    },
    {
      "cell_type": "code",
      "metadata": {
        "id": "VEYTjtRFg6uT"
      },
      "source": [
        "import numpy as np\n",
        "import pandas as pd"
      ],
      "execution_count": 2,
      "outputs": []
    },
    {
      "cell_type": "code",
      "metadata": {
        "id": "jbSryUNIjf_V"
      },
      "source": [
        "df = pd.read_csv('titanic.csv')"
      ],
      "execution_count": null,
      "outputs": []
    },
    {
      "cell_type": "code",
      "metadata": {
        "colab": {
          "base_uri": "https://localhost:8080/"
        },
        "id": "GfM8Mnc-ltoS",
        "outputId": "10a7f060-5b50-4917-f199-98fb4a1c8f6c"
      },
      "source": [
        "df['Survived'].describe()"
      ],
      "execution_count": 17,
      "outputs": [
        {
          "output_type": "execute_result",
          "data": {
            "text/plain": [
              "count    891.000000\n",
              "mean       0.383838\n",
              "std        0.486592\n",
              "min        0.000000\n",
              "25%        0.000000\n",
              "50%        0.000000\n",
              "75%        1.000000\n",
              "max        1.000000\n",
              "Name: Survived, dtype: float64"
            ]
          },
          "metadata": {
            "tags": []
          },
          "execution_count": 17
        }
      ]
    },
    {
      "cell_type": "code",
      "metadata": {
        "colab": {
          "base_uri": "https://localhost:8080/"
        },
        "id": "qqTVAWtgmT9J",
        "outputId": "cd24c84a-945f-4cf2-fe79-94b5c0c57fa9"
      },
      "source": [
        "df['Survived'].count()"
      ],
      "execution_count": 15,
      "outputs": [
        {
          "output_type": "execute_result",
          "data": {
            "text/plain": [
              "891"
            ]
          },
          "metadata": {
            "tags": []
          },
          "execution_count": 15
        }
      ]
    },
    {
      "cell_type": "code",
      "metadata": {
        "colab": {
          "base_uri": "https://localhost:8080/"
        },
        "id": "HNkUXkh6kYth",
        "outputId": "84ebc39c-3b17-486b-b633-7abbd61d5546"
      },
      "source": [
        "df.isna().sum()/df['Survived'].count()"
      ],
      "execution_count": 16,
      "outputs": [
        {
          "output_type": "execute_result",
          "data": {
            "text/plain": [
              "PassengerId    0.000000\n",
              "Survived       0.000000\n",
              "Pclass         0.000000\n",
              "Name           0.000000\n",
              "Sex            0.000000\n",
              "Age            0.198653\n",
              "SibSp          0.000000\n",
              "Parch          0.000000\n",
              "Ticket         0.000000\n",
              "Fare           0.000000\n",
              "Cabin          0.771044\n",
              "Embarked       0.002245\n",
              "dtype: float64"
            ]
          },
          "metadata": {
            "tags": []
          },
          "execution_count": 16
        }
      ]
    }
  ]
}