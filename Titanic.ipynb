{
  "nbformat": 4,
  "nbformat_minor": 0,
  "metadata": {
    "colab": {
      "name": "Titanic.ipynb",
      "provenance": [],
      "authorship_tag": "ABX9TyNy63MMVgPZXVd6ugUQl9oJ",
      "include_colab_link": true
    },
    "kernelspec": {
      "name": "python3",
      "display_name": "Python 3"
    },
    "language_info": {
      "name": "python"
    }
  },
  "cells": [
    {
      "cell_type": "markdown",
      "metadata": {
        "id": "view-in-github",
        "colab_type": "text"
      },
      "source": [
        "<a href=\"https://colab.research.google.com/github/duartele/exerc-jupyternotebook/blob/main/Titanic.ipynb\" target=\"_parent\"><img src=\"https://colab.research.google.com/assets/colab-badge.svg\" alt=\"Open In Colab\"/></a>"
      ]
    },
    {
      "cell_type": "markdown",
      "metadata": {
        "id": "f_MB_ZimhDV5"
      },
      "source": [
        "#Estudo sobre a base Titanic\n",
        "---\n",
        "1. Introdução\n",
        "\n",
        "  Titanic foi um navio luxuoso construido para ser 'infundavel'. Contudo, a embarcacao com 3.327 pessoas(892 tripulantes e 2.435 passageiros) colidiu com um iceberg levando a milhares de mortos (nao se sabe o numero exato de mortos devidos a inconsistencias nos documentos)\n",
        "  \n",
        "  O objetivo desses estudos é determinar se um conjunto de indivíduos sobreviveu à viagem. Nesse intuito, temos uma base com 891 observacoes com 12 variaveis. \n",
        "1. Primeiras Análises\n",
        "\n",
        "  O primeiro passo é conhecermos a base.\n",
        "  Inicialmente temos 891 observacoes e 12 variaveis/features.\n",
        "  O numero total de sobreviventes da base eh 342 (38,38%).\n",
        "  A variavel \"Cabin\" nao parece ser contribuir na analise porque nao temos informacao sobre 77% das observacoes\n",
        "  Ainda deveria analisar melhor descritivamente vendo as correlacoes. Porem, quero fazer o primeiro modelo logo.\n",
        "\n",
        "  1.1 Feature engeneering\n",
        "\n",
        "  Com a tentava de obter mais informacoes vamosfazer alguns agrupamentos nas variaveis.\n",
        "  Fiz alguns agrupamentos que podem ser interessantes para fazer um modelo de regres'ao logistica. Porem, na primeira modelagem vou aplicar KNN (mais facil)   \n",
        "\n",
        "1. Escolha de Métodos\n",
        "Por aplicar KNN, os dados precisam ser numericos e nao podem ter valores nulos. Entao farei a limpeza na base, chamando-a de dados_editados_1.\n",
        "\n",
        "1. Pré-processamento\n",
        "1. Análises Finais\n",
        "1. Conclusão\n"
      ]
    },
    {
      "cell_type": "code",
      "metadata": {
        "id": "VEYTjtRFg6uT"
      },
      "source": [
        "import numpy as np\n",
        "import pandas as pd\n",
        "import matplotlib.pyplot as plt"
      ],
      "execution_count": 58,
      "outputs": []
    },
    {
      "cell_type": "code",
      "metadata": {
        "id": "RIx5g2jvBxma"
      },
      "source": [
        "from sklearn.preprocessing import MinMaxScaler\n",
        "from sklearn.model_selection import train_test_split\n",
        "from sklearn.neighbors import KNeighborsClassifier\n",
        "from sklearn.metrics import accuracy_score"
      ],
      "execution_count": 31,
      "outputs": []
    },
    {
      "cell_type": "code",
      "metadata": {
        "id": "jbSryUNIjf_V"
      },
      "source": [
        "df = pd.read_csv('titanic.csv')"
      ],
      "execution_count": 2,
      "outputs": []
    },
    {
      "cell_type": "code",
      "metadata": {
        "id": "lphVBAHN2piR"
      },
      "source": [
        "def calc_faixa_etaria(idade):\n",
        "  if idade <= 8:\n",
        "    return '01.Crianca'\n",
        "  elif idade <= 17:\n",
        "    return '02.Adolescente'\n",
        "  elif idade <= 200: \n",
        "    return '03.Adulto'\n",
        "  else: \n",
        "    return '04.Nulo'\n"
      ],
      "execution_count": 3,
      "outputs": []
    },
    {
      "cell_type": "code",
      "metadata": {
        "id": "J4refWZ35ors"
      },
      "source": [
        "def calc_faixa_fare(tax):\n",
        "  if tax <= 8:\n",
        "    return '01.Cheap'\n",
        "  elif tax <= 16:\n",
        "    return '02.Poor'\n",
        "  elif tax <= 50: \n",
        "    return '03.Mean'\n",
        "  else: \n",
        "    return '04.TOP'\n"
      ],
      "execution_count": 4,
      "outputs": []
    },
    {
      "cell_type": "code",
      "metadata": {
        "id": "3EFyhmO5-QxE"
      },
      "source": [
        "faixas_etarias = df['Age'].apply(calc_faixa_etaria)\n",
        "df.loc[:,'Faixa Etaria'] = faixas_etarias"
      ],
      "execution_count": 6,
      "outputs": []
    },
    {
      "cell_type": "code",
      "metadata": {
        "id": "3hrAVJee6sxH"
      },
      "source": [
        "faixas_fare = df['Fare'].apply(calc_faixa_fare)\n",
        "df.loc[:,'Faixa Fare'] = faixas_fare"
      ],
      "execution_count": 7,
      "outputs": []
    },
    {
      "cell_type": "code",
      "metadata": {
        "id": "ed0usJNr-oYu"
      },
      "source": [
        "df.loc[:,'Tem Cabine'] = df['Cabin'].isna()  < 1"
      ],
      "execution_count": 29,
      "outputs": []
    },
    {
      "cell_type": "code",
      "metadata": {
        "id": "gy2w6cGwA7tK"
      },
      "source": [
        "df.to_csv('titanic_engineering.csv', index=False)"
      ],
      "execution_count": 28,
      "outputs": []
    },
    {
      "cell_type": "markdown",
      "metadata": {
        "id": "D-nGVq_uBOkq"
      },
      "source": [
        "### Limpeza da base"
      ]
    },
    {
      "cell_type": "code",
      "metadata": {
        "id": "AaKCayoRFoqg"
      },
      "source": [
        "df = pd.read_csv('dados_editados.csv')"
      ],
      "execution_count": 60,
      "outputs": []
    },
    {
      "cell_type": "code",
      "metadata": {
        "id": "P4yk0Y5-PCvX"
      },
      "source": [
        "df.drop(columns=['PassengerId', 'Name', 'Ticket', 'Faixa etaria'],inplace=True)"
      ],
      "execution_count": 61,
      "outputs": []
    },
    {
      "cell_type": "code",
      "metadata": {
        "id": "I2Sd8fDNAEgW"
      },
      "source": [
        "df.drop(columns=['PassengerId',\t'Name',\t'Sex',\t'SibSp',\t'Parch',\t'Ticket',\t'Embarked', 'Cabin', 'Age', 'Fare'], inplace=True)"
      ],
      "execution_count": 47,
      "outputs": []
    },
    {
      "cell_type": "code",
      "metadata": {
        "id": "G4idMt9VEdHO"
      },
      "source": [
        "df = pd.get_dummies(df)"
      ],
      "execution_count": 62,
      "outputs": []
    },
    {
      "cell_type": "code",
      "metadata": {
        "id": "cqBJ8uRe3xra"
      },
      "source": [
        "#from sklearn.preprocessing import MinMaxScaler\n",
        "scaler = MinMaxScaler()\n",
        "scaler.fit(df)\n",
        "df = pd.DataFrame(scaler.transform(df), columns=df.columns)"
      ],
      "execution_count": 63,
      "outputs": []
    },
    {
      "cell_type": "code",
      "metadata": {
        "id": "RgNGI763FJ7u"
      },
      "source": [
        "target = 'Survived'\n",
        "features = list(df.columns)\n",
        "features.remove(target)"
      ],
      "execution_count": 64,
      "outputs": []
    },
    {
      "cell_type": "code",
      "metadata": {
        "id": "ukX86i_8F4gs"
      },
      "source": [
        "X_train, X_val, y_train, y_val = train_test_split(df[features], df[target], test_size=0.2, random_state=42)"
      ],
      "execution_count": 65,
      "outputs": []
    },
    {
      "cell_type": "code",
      "metadata": {
        "id": "cQpcSUsgGBEU"
      },
      "source": [
        "clf = KNeighborsClassifier(n_neighbors=1)\n",
        "clf.fit(X_train, y_train)"
      ],
      "execution_count": null,
      "outputs": []
    },
    {
      "cell_type": "code",
      "metadata": {
        "id": "Q8XUnhp3GKs5"
      },
      "source": [
        "y_pred = clf.predict(X_val)"
      ],
      "execution_count": 67,
      "outputs": []
    },
    {
      "cell_type": "code",
      "metadata": {
        "id": "KysG89uxGSNQ"
      },
      "source": [
        "acc = accuracy_score(y_val, y_pred)\n",
        "print('Acuracia =', acc)"
      ],
      "execution_count": null,
      "outputs": []
    },
    {
      "cell_type": "code",
      "metadata": {
        "id": "Ha5oAvohGb8C"
      },
      "source": [
        "n_vizinhos = np.arange(1,11)\n",
        "resultados = []\n",
        "for k in n_vizinhos:\n",
        "  clf = KNeighborsClassifier(n_neighbors=k)\n",
        "  clf.fit(X_train, y_train)\n",
        "  y_pred = clf.predict(X_val)\n",
        "  acc = accuracy_score(y_val,y_pred)\n",
        "  resultados.append(acc)"
      ],
      "execution_count": 74,
      "outputs": []
    },
    {
      "cell_type": "code",
      "metadata": {
        "id": "iWul-2q4Gf2M"
      },
      "source": [
        "plt.plot(n_vizinhos, resultados, '-o')\n",
        "plt.xticks(n_vizinhos);"
      ],
      "execution_count": null,
      "outputs": []
    },
    {
      "cell_type": "markdown",
      "metadata": {
        "id": "uQgIYQ8mQNWV"
      },
      "source": [
        "### Aplicando o Modelo (k=5)"
      ]
    },
    {
      "cell_type": "code",
      "metadata": {
        "id": "28NW_5-BQZ3Y"
      },
      "source": [
        "clf = KNeighborsClassifier(n_neighbors=5)\n",
        "clf.fit(X_train, y_train)\n",
        "y_aplic = clf.predict(X_test)"
      ],
      "execution_count": 77,
      "outputs": []
    }
  ]
}