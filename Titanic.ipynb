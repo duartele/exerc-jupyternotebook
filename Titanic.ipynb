{
  "nbformat": 4,
  "nbformat_minor": 0,
  "metadata": {
    "colab": {
      "name": "Titanic.ipynb",
      "provenance": [],
      "authorship_tag": "ABX9TyPtrx3ts1hgghafMqbzHu7o",
      "include_colab_link": true
    },
    "kernelspec": {
      "name": "python3",
      "display_name": "Python 3"
    },
    "language_info": {
      "name": "python"
    }
  },
  "cells": [
    {
      "cell_type": "markdown",
      "metadata": {
        "id": "view-in-github",
        "colab_type": "text"
      },
      "source": [
        "<a href=\"https://colab.research.google.com/github/duartele/exerc-jupyternotebook/blob/main/Titanic.ipynb\" target=\"_parent\"><img src=\"https://colab.research.google.com/assets/colab-badge.svg\" alt=\"Open In Colab\"/></a>"
      ]
    },
    {
      "cell_type": "markdown",
      "metadata": {
        "id": "f_MB_ZimhDV5"
      },
      "source": [
        "#Estudo sobre a base Titanic\n",
        "---\n",
        "1. Introdução\n",
        "\n",
        "  Titanic foi um navio luxuoso construido para ser 'infundavel'. Contudo, a embarcacao com 3.327 pessoas(892 tripulantes e 2.435 passageiros) colidiu com um iceberg levando a milhares de mortos (nao se sabe o numero exato de mortos devidos a inconsistencias nos documentos)\n",
        "  \n",
        "  O objetivo desses estudos é determinar se um conjunto de indivíduos sobreviveu à viagem. Nesse intuito, temos uma base com 891 observacoes com 12 variaveis. \n",
        "1. Primeiras Análises\n",
        "\n",
        "  O primeiro passo é conhecermos a base.\n",
        "  Inicialmente temos 891 observacoes e 12 variaveis/features.\n",
        "  O numero total de sobreviventes da base eh 342 (38,38%).\n",
        "  A variavel \"Cabin\" nao parece ser contribuir na analise porque nao temos informacao sobre 77% das observacoes\n",
        "\n",
        "  1.1 Feature engeneering\n",
        "\n",
        "  Com a tentava de obter mais informacoes vamosfazer alguns agrupamentos nas variaveis.   \n",
        "\n",
        "1. Escolha de Métodos\n",
        "1. Pré-processamento\n",
        "1. Análises Finais\n",
        "1. Conclusão\n"
      ]
    },
    {
      "cell_type": "code",
      "metadata": {
        "id": "VEYTjtRFg6uT"
      },
      "source": [
        "import numpy as np\n",
        "import pandas as pd"
      ],
      "execution_count": 2,
      "outputs": []
    },
    {
      "cell_type": "code",
      "metadata": {
        "colab": {
          "base_uri": "https://localhost:8080/"
        },
        "id": "go8A-nFBoE9p",
        "outputId": "a2504e6f-74a7-4742-a3fd-3a0b36bee0ec"
      },
      "source": [
        "nome = 'Jose_francisco'\n",
        "type(nome)"
      ],
      "execution_count": 26,
      "outputs": [
        {
          "output_type": "execute_result",
          "data": {
            "text/plain": [
              "str"
            ]
          },
          "metadata": {
            "tags": []
          },
          "execution_count": 26
        }
      ]
    },
    {
      "cell_type": "code",
      "metadata": {
        "colab": {
          "base_uri": "https://localhost:8080/"
        },
        "id": "NbnhzUYQlA7J",
        "outputId": "6c276380-29d7-46e7-ab0a-cb8e23632676"
      },
      "source": [
        "#df.head() #mostra as 5 primeiras obs (defaut), mas voce pode mudar o parametro (por ex df.head(17))\n",
        "#df.tail() #mostra as 5 ultimas obs\n",
        "#df.shape\n",
        "#df.columns\n",
        "df.dtypes\n",
        "#df.describe()\n",
        "#df.sum()\n",
        "#df.mean()\n",
        "#df.isna() #retorna um dataframe com valores True/False para cada elemento - pouco util\n",
        "#df.isna().sum() #conta a quantidade de itens nulo naquela varialvel"
      ],
      "execution_count": 21,
      "outputs": [
        {
          "output_type": "execute_result",
          "data": {
            "text/plain": [
              "PassengerId       int64\n",
              "Survived          int64\n",
              "Pclass            int64\n",
              "Name             object\n",
              "Sex              object\n",
              "Age             float64\n",
              "SibSp             int64\n",
              "Parch             int64\n",
              "Ticket           object\n",
              "Fare            float64\n",
              "Cabin            object\n",
              "Embarked         object\n",
              "Faixa Etaria     object\n",
              "Faixa Cabin      object\n",
              "dtype: object"
            ]
          },
          "metadata": {
            "tags": []
          },
          "execution_count": 21
        }
      ]
    },
    {
      "cell_type": "code",
      "metadata": {
        "id": "jbSryUNIjf_V"
      },
      "source": [
        "df = pd.read_csv('titanic.csv')"
      ],
      "execution_count": 3,
      "outputs": []
    },
    {
      "cell_type": "code",
      "metadata": {
        "colab": {
          "base_uri": "https://localhost:8080/"
        },
        "id": "GfM8Mnc-ltoS",
        "outputId": "10a7f060-5b50-4917-f199-98fb4a1c8f6c"
      },
      "source": [
        "df['Survived'].describe()"
      ],
      "execution_count": null,
      "outputs": [
        {
          "output_type": "execute_result",
          "data": {
            "text/plain": [
              "count    891.000000\n",
              "mean       0.383838\n",
              "std        0.486592\n",
              "min        0.000000\n",
              "25%        0.000000\n",
              "50%        0.000000\n",
              "75%        1.000000\n",
              "max        1.000000\n",
              "Name: Survived, dtype: float64"
            ]
          },
          "metadata": {
            "tags": []
          },
          "execution_count": 17
        }
      ]
    },
    {
      "cell_type": "code",
      "metadata": {
        "colab": {
          "base_uri": "https://localhost:8080/"
        },
        "id": "qqTVAWtgmT9J",
        "outputId": "cd24c84a-945f-4cf2-fe79-94b5c0c57fa9"
      },
      "source": [
        "df['Survived'].count()"
      ],
      "execution_count": null,
      "outputs": [
        {
          "output_type": "execute_result",
          "data": {
            "text/plain": [
              "891"
            ]
          },
          "metadata": {
            "tags": []
          },
          "execution_count": 15
        }
      ]
    },
    {
      "cell_type": "code",
      "metadata": {
        "colab": {
          "base_uri": "https://localhost:8080/"
        },
        "id": "HNkUXkh6kYth",
        "outputId": "e264e26b-a873-422a-f944-bd8c1f042a53"
      },
      "source": [
        "df.isna().sum()/df['Survived'].count()"
      ],
      "execution_count": 4,
      "outputs": [
        {
          "output_type": "execute_result",
          "data": {
            "text/plain": [
              "PassengerId    0.000000\n",
              "Survived       0.000000\n",
              "Pclass         0.000000\n",
              "Name           0.000000\n",
              "Sex            0.000000\n",
              "Age            0.198653\n",
              "SibSp          0.000000\n",
              "Parch          0.000000\n",
              "Ticket         0.000000\n",
              "Fare           0.000000\n",
              "Cabin          0.771044\n",
              "Embarked       0.002245\n",
              "dtype: float64"
            ]
          },
          "metadata": {
            "tags": []
          },
          "execution_count": 4
        }
      ]
    },
    {
      "cell_type": "code",
      "metadata": {
        "id": "lphVBAHN2piR"
      },
      "source": [
        "def calc_faixa_etaria(idade):\n",
        "  if idade <= 8:\n",
        "    return '01.Crianca'\n",
        "  elif idade <= 17:\n",
        "    return '02.Adolescente'\n",
        "  elif idade <= 200: \n",
        "    return '03.Adulto'\n",
        "  else: \n",
        "    return '04.Nulo'\n"
      ],
      "execution_count": 7,
      "outputs": []
    },
    {
      "cell_type": "code",
      "metadata": {
        "id": "J4refWZ35ors"
      },
      "source": [
        "def calc_faixa_fare(tax):\n",
        "  if tax <= 8:\n",
        "    return '01.Cheap'\n",
        "  elif tax <= 16:\n",
        "    return '02.Poor'\n",
        "  elif tax <= 50: \n",
        "    return '03.Mean'\n",
        "  else: \n",
        "    return '04.TOP'\n"
      ],
      "execution_count": 39,
      "outputs": []
    },
    {
      "cell_type": "code",
      "metadata": {
        "id": "x5g6we56jC7k"
      },
      "source": [
        "def calc_faixa_cabin(msg):\n",
        "  n = str(msg)\n",
        "  return n[0]\n",
        "  "
      ],
      "execution_count": 27,
      "outputs": []
    },
    {
      "cell_type": "code",
      "metadata": {
        "id": "3EFyhmO5-QxE"
      },
      "source": [
        "faixas_etarias = df['Age'].apply(calc_faixa_etaria)"
      ],
      "execution_count": 4,
      "outputs": []
    },
    {
      "cell_type": "code",
      "metadata": {
        "id": "3hrAVJee6sxH"
      },
      "source": [
        "faixas_fare = df['Fare'].apply(calc_faixa_fare)\n",
        "df.loc[:,'Faixa Fare'] = faixas_fare"
      ],
      "execution_count": 40,
      "outputs": []
    },
    {
      "cell_type": "code",
      "metadata": {
        "id": "AOUZZ1iZjTjo"
      },
      "source": [
        "faixas_cabin_2 = df['Cabin'].apply(calc_faixa_cabin)"
      ],
      "execution_count": 28,
      "outputs": []
    },
    {
      "cell_type": "code",
      "metadata": {
        "colab": {
          "base_uri": "https://localhost:8080/"
        },
        "id": "ed0usJNr-oYu",
        "outputId": "f1cf4cd1-41a9-4ed0-90a1-095bd2c677e2"
      },
      "source": [
        "df.loc[:,'Tem Cabine'] = df['Cabin'].isna()\n",
        "df['Tem Cabine'].describe()"
      ],
      "execution_count": 33,
      "outputs": [
        {
          "output_type": "execute_result",
          "data": {
            "text/plain": [
              "count      891\n",
              "unique       2\n",
              "top       True\n",
              "freq       687\n",
              "Name: Tem Cabine, dtype: object"
            ]
          },
          "metadata": {
            "tags": []
          },
          "execution_count": 33
        }
      ]
    },
    {
      "cell_type": "code",
      "metadata": {
        "id": "gy2w6cGwA7tK"
      },
      "source": [
        "df.to_csv('titanic_4.csv', index=False)"
      ],
      "execution_count": 38,
      "outputs": []
    },
    {
      "cell_type": "code",
      "metadata": {
        "colab": {
          "base_uri": "https://localhost:8080/"
        },
        "id": "SDH6gUaL5VA4",
        "outputId": "5364c540-67d5-4a69-ac15-07478a3a9356"
      },
      "source": [
        "df['Fare'].describe()"
      ],
      "execution_count": 34,
      "outputs": [
        {
          "output_type": "execute_result",
          "data": {
            "text/plain": [
              "count    891.000000\n",
              "mean      32.204208\n",
              "std       49.693429\n",
              "min        0.000000\n",
              "25%        7.910400\n",
              "50%       14.454200\n",
              "75%       31.000000\n",
              "max      512.329200\n",
              "Name: Fare, dtype: float64"
            ]
          },
          "metadata": {
            "tags": []
          },
          "execution_count": 34
        }
      ]
    }
  ]
}