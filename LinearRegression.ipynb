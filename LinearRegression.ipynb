{
  "nbformat": 4,
  "nbformat_minor": 0,
  "metadata": {
    "colab": {
      "name": "LinearRegression.ipynb",
      "provenance": [],
      "authorship_tag": "ABX9TyNBIAG+Py/+l5CFcHmnarOD"
    },
    "kernelspec": {
      "name": "python3",
      "display_name": "Python 3"
    },
    "language_info": {
      "name": "python"
    }
  },
  "cells": [
    {
      "cell_type": "code",
      "execution_count": 60,
      "metadata": {
        "id": "xgz1KCRCSQ2d"
      },
      "outputs": [],
      "source": [
        "import numpy as np\n",
        "import pandas as pd\n",
        "from matplotlib import pyplot as plt\n",
        "from sklearn import linear_model as lm\n",
        "import statsmodels.formula.api as smf"
      ]
    },
    {
      "cell_type": "code",
      "source": [
        "df = pd.read_csv('p027_2.txt', sep=\";\")"
      ],
      "metadata": {
        "id": "wLXtZX9oS6l1"
      },
      "execution_count": 9,
      "outputs": []
    },
    {
      "cell_type": "code",
      "source": [
        "df.columns\n",
        "#df.columns = ['Minutos', 'Unidades']"
      ],
      "metadata": {
        "id": "EPdYax1YVeFf"
      },
      "execution_count": null,
      "outputs": []
    },
    {
      "cell_type": "code",
      "source": [
        "X = np.array(df['Units']).reshape(-1,1) #Transform in one column\n",
        "y = np.array(df['Minutes']).reshape(-1,1)"
      ],
      "metadata": {
        "id": "RSeRJYuca2c3"
      },
      "execution_count": 29,
      "outputs": []
    },
    {
      "cell_type": "code",
      "source": [
        "#ordinary least squares - OLS\n",
        "model_2 = smf.ols('Minutes ~ Units', data=df).fit()"
      ],
      "metadata": {
        "id": "-D-iTcZxDW9t"
      },
      "execution_count": 61,
      "outputs": []
    },
    {
      "cell_type": "code",
      "source": [
        "print(model_2.summary())"
      ],
      "metadata": {
        "id": "ZgXSEFKtDZPE"
      },
      "execution_count": null,
      "outputs": []
    },
    {
      "cell_type": "code",
      "source": [
        "model_lm = lm.LinearRegression(fit_intercept=False)\n",
        "model_lm.fit(X,y) #X and Y need to be arrays - not pd.Series"
      ],
      "metadata": {
        "id": "KGWhD4tpaU7V"
      },
      "execution_count": null,
      "outputs": []
    },
    {
      "cell_type": "code",
      "source": [
        "b1 = model_lm.coef_\n",
        "b0 = model_lm.intercept_\n",
        "yhat = b0 + b1*X"
      ],
      "metadata": {
        "id": "svCuu7XEdJyl"
      },
      "execution_count": 66,
      "outputs": []
    },
    {
      "cell_type": "code",
      "source": [
        "df['yhat02'] = yhat"
      ],
      "metadata": {
        "id": "8ivxLv3Sduob"
      },
      "execution_count": 68,
      "outputs": []
    },
    {
      "cell_type": "code",
      "source": [
        "#plot(x,y)\n",
        "plt.scatter(df['Units'],df['Minutes'])\n",
        "plt.plot(df['Units'], df['yhat'], color='red')\n",
        "plt.plot(df['Units'], df['yhat02'], color='black');"
      ],
      "metadata": {
        "colab": {
          "base_uri": "https://localhost:8080/",
          "height": 265
        },
        "id": "5vc3cjXlV6Ik",
        "outputId": "7583a29b-168d-4333-ff5c-d073e5205cd8"
      },
      "execution_count": 70,
      "outputs": [
        {
          "output_type": "display_data",
          "data": {
            "image/png": "[encoded data removed]",
            "text/plain": [
              "<Figure size 432x288 with 1 Axes>"
            ]
          },
          "metadata": {
            "needs_background": "light"
          }
        }
      ]
    },
    {
      "cell_type": "code",
      "source": [
        "#Least Square Error\n",
        "df['Error'] = (df['Minutes']-df['yhat'])**2\n",
        "print(f'SS M01: {np.sum(df[\"Error\"])}')"
      ],
      "metadata": {
        "id": "Y1rT_bJFX7ee"
      },
      "execution_count": null,
      "outputs": []
    }
  ]
}