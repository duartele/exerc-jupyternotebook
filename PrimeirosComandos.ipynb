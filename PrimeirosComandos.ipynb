{
  "nbformat": 4,
  "nbformat_minor": 0,
  "metadata": {
    "colab": {
      "name": "PrimeirosComandos.ipynb",
      "provenance": [],
      "authorship_tag": "ABX9TyO/aEiE1/k1tk6HCamHDqVn",
      "include_colab_link": true
    },
    "kernelspec": {
      "name": "python3",
      "display_name": "Python 3"
    }
  },
  "cells": [
    {
      "cell_type": "markdown",
      "metadata": {
        "id": "view-in-github",
        "colab_type": "text"
      },
      "source": [
        "<a href=\"https://colab.research.google.com/github/duartele/exerc-jupyternotebook/blob/main/PrimeirosComandos.ipynb\" target=\"_parent\"><img src=\"https://colab.research.google.com/assets/colab-badge.svg\" alt=\"Open In Colab\"/></a>"
      ]
    },
    {
      "cell_type": "code",
      "metadata": {
        "colab": {
          "base_uri": "https://localhost:8080/"
        },
        "id": "_v85rRtyzfyJ",
        "outputId": "e380728b-f79a-4b64-8d86-05b8e4353c6b"
      },
      "source": [
        "peso = 83.9\n",
        "idade = 19\n",
        "\n",
        "pot = idade ** 2 #Elevar a um potencia - 2 neste exemplo\n",
        "mod = idade % 10 #Resto da divisao inteira\n",
        "div = idade // 3 #Divisao inteira\n",
        "\n",
        "print('pot = ', pot,'mod = ', mod, 'div = ', div)\n",
        "print(type(peso))\n",
        "type(peso) #Na ultima linha nao precisamos usar o comando print"
      ],
      "execution_count": null,
      "outputs": [
        {
          "output_type": "stream",
          "text": [
            "pot =  361 mod =  9 div =  6\n",
            "<class 'float'>\n"
          ],
          "name": "stdout"
        },
        {
          "output_type": "execute_result",
          "data": {
            "text/plain": [
              "float"
            ]
          },
          "metadata": {
            "tags": []
          },
          "execution_count": 13
        }
      ]
    },
    {
      "cell_type": "code",
      "metadata": {
        "colab": {
          "base_uri": "https://localhost:8080/"
        },
        "id": "bdW5l1s927gB",
        "outputId": "0ed250a9-0f8d-489e-8b27-ae8b8dc3690e"
      },
      "source": [
        "nome = 'Leandro'\n",
        "nome += ' ' + 'Duarte' #Simbolo usado para concatenar\n",
        "print(nome)\n",
        "\n",
        "lista = [1, 2, 3, 4]\n",
        "lista += [5, 6, 7, 8] + [9, 10]\n",
        "print(lista) #Assim como uma string, ao usar '+' nos concatenamos e nao somamos\n",
        "print(lista[0]) #Primeiro elemento\n",
        "print(lista[-1]) #'Ultimo elemento\n",
        "print(lista[1:6]) #Segundo elemento ate o quinto elemento\n",
        "print(lista[-4:]) #quartultimo ate o ultimo elemento\n",
        "\n",
        "variado = [10, 25.5,'Leandro', True, ['Sao Paulo', 'Rio de Janeiro', 'Parana']] #Na lista podemos ter varios tipos, inclusive possuir outras listas\n",
        "\n",
        "variado"
      ],
      "execution_count": null,
      "outputs": [
        {
          "output_type": "stream",
          "text": [
            "Leandro Duarte\n",
            "[1, 2, 3, 4, 5, 6, 7, 8, 9, 10]\n",
            "1\n",
            "10\n",
            "[2, 3, 4, 5, 6]\n",
            "[7, 8, 9, 10]\n"
          ],
          "name": "stdout"
        },
        {
          "output_type": "execute_result",
          "data": {
            "text/plain": [
              "[10, 25.5, 'Leandro', True, ['Sao Paulo', 'Rio de Janeiro', 'Parana']]"
            ]
          },
          "metadata": {
            "tags": []
          },
          "execution_count": 22
        }
      ]
    },
    {
      "cell_type": "code",
      "metadata": {
        "id": "NUnSKMXN4C9N"
      },
      "source": [
        "def somaEprod(a,b):\n",
        "  s = a + b\n",
        "  p = a * b\n",
        "  return s, p #Diferentemente de Java, a funcao pode ter mais de um retorno"
      ],
      "execution_count": null,
      "outputs": []
    },
    {
      "cell_type": "code",
      "metadata": {
        "colab": {
          "base_uri": "https://localhost:8080/"
        },
        "id": "FVz7gVqKL3zz",
        "outputId": "3d784b52-69d1-48e3-c44a-0ef7f8fd8458"
      },
      "source": [
        "s,p = somaEprod(2,2) #pode fazer assim para separar os valores\n",
        "print(s,p)\n",
        "somaEprod(2,2) #Ou pode armezenar o resultado numa Tupla"
      ],
      "execution_count": null,
      "outputs": [
        {
          "output_type": "stream",
          "text": [
            "4 4\n"
          ],
          "name": "stdout"
        },
        {
          "output_type": "execute_result",
          "data": {
            "text/plain": [
              "(4, 4)"
            ]
          },
          "metadata": {
            "tags": []
          },
          "execution_count": 27
        }
      ]
    },
    {
      "cell_type": "code",
      "metadata": {
        "colab": {
          "base_uri": "https://localhost:8080/"
        },
        "id": "EXOng51jM6Z7",
        "outputId": "f26c0772-10f9-4507-ceba-061574c1ca2b"
      },
      "source": [
        "import random\n",
        "\n",
        "print(random.randint(10, 20)) #Importando assim, precisa especificar sempre a biblioteca (random.)"
      ],
      "execution_count": null,
      "outputs": [
        {
          "output_type": "stream",
          "text": [
            "18\n"
          ],
          "name": "stdout"
        }
      ]
    },
    {
      "cell_type": "code",
      "metadata": {
        "colab": {
          "base_uri": "https://localhost:8080/"
        },
        "id": "dVz-jSsSNW4M",
        "outputId": "2a477c3b-09c6-4637-f428-562256c9f29e"
      },
      "source": [
        "from random import randint\n",
        "\n",
        "print(randint(10, 20)) #Aqui basta chamar diretamente a funcao"
      ],
      "execution_count": null,
      "outputs": [
        {
          "output_type": "stream",
          "text": [
            "10\n"
          ],
          "name": "stdout"
        }
      ]
    },
    {
      "cell_type": "markdown",
      "metadata": {
        "id": "ffGmMCrDOr71"
      },
      "source": [
        "# Blibiotecas para Ciencia de Dados: 1) Numpy\n",
        "\n",
        "Para mais informacoes acesse https://numpy.org/doc/"
      ]
    },
    {
      "cell_type": "code",
      "metadata": {
        "colab": {
          "base_uri": "https://localhost:8080/"
        },
        "id": "2TgEUQ33O21r",
        "outputId": "c6841064-f1b6-4f6b-bac3-476ba80f1360"
      },
      "source": [
        "import numpy as np #Tao comum esse apelido que o proprio Notebook o sugere\n",
        "'''arrays - eixo 0 vertical, eixo 1 horizontal\n",
        "([1,2,3,4])               ([2,3,1],[4,5,1])               ([])\n",
        "shape(4,) 1 dim           shape(2,3) 2dim                 matriz de cores RGB shape (3,200,200)\n",
        "'''\n",
        "a = np.array([2, 3, 5, 6, 8])\n",
        "a.ndim #numero de dimensoes - nesse ex = 1\n",
        "a.shape #formato - 5 elementos nessa unica dimen"
      ],
      "execution_count": 34,
      "outputs": [
        {
          "output_type": "execute_result",
          "data": {
            "text/plain": [
              "(5,)"
            ]
          },
          "metadata": {
            "tags": []
          },
          "execution_count": 34
        }
      ]
    },
    {
      "cell_type": "code",
      "metadata": {
        "colab": {
          "base_uri": "https://localhost:8080/"
        },
        "id": "LrecgcjMYv42",
        "outputId": "a3683f5b-fa7f-44c5-be72-147cd07d28ff"
      },
      "source": [
        "a = np.zeros((3,2)) # Gera uma matriz de zeros (3 linhas x 2 colunas)\n",
        "a = np.ones((1,2)) # Gera uma matriz de 1 (1 x 2)\n",
        "a = np.ones((3,2,4)) #Matriz 3D como se fossem 3 matrizes 2x4\n",
        "a"
      ],
      "execution_count": 41,
      "outputs": [
        {
          "output_type": "execute_result",
          "data": {
            "text/plain": [
              "array([[[1., 1., 1., 1.],\n",
              "        [1., 1., 1., 1.]],\n",
              "\n",
              "       [[1., 1., 1., 1.],\n",
              "        [1., 1., 1., 1.]],\n",
              "\n",
              "       [[1., 1., 1., 1.],\n",
              "        [1., 1., 1., 1.]]])"
            ]
          },
          "metadata": {
            "tags": []
          },
          "execution_count": 41
        }
      ]
    },
    {
      "cell_type": "code",
      "metadata": {
        "colab": {
          "base_uri": "https://localhost:8080/"
        },
        "id": "s-AVQ_JNkwCC",
        "outputId": "10fab031-9fa8-4206-e00d-a4397b4c20b1"
      },
      "source": [
        "a = np.arange(5) #Comando para criar vetores (de 0 ate 4)\n",
        "a = np.arange(2,5) #Comando para criar vetores (de 2 ate 4) como um fatiamento\n",
        "a"
      ],
      "execution_count": 49,
      "outputs": [
        {
          "output_type": "execute_result",
          "data": {
            "text/plain": [
              "array([2, 3, 4])"
            ]
          },
          "metadata": {
            "tags": []
          },
          "execution_count": 49
        }
      ]
    },
    {
      "cell_type": "code",
      "metadata": {
        "colab": {
          "base_uri": "https://localhost:8080/"
        },
        "id": "gBiSVjPEjUSh",
        "outputId": "8830e6e9-46c0-4631-8ae6-fe02b61f2b27"
      },
      "source": [
        "a = np.random.random((3,2)) # gera aleatorios entre 0 e 1\n",
        "b = np.random.randint(20,size=(3,2)) # gera aleatorios entre 0 e 20 formando uma matriz 3x2\n",
        "b "
      ],
      "execution_count": 45,
      "outputs": [
        {
          "output_type": "execute_result",
          "data": {
            "text/plain": [
              "array([[ 8, 17],\n",
              "       [ 3,  5],\n",
              "       [10, 17]])"
            ]
          },
          "metadata": {
            "tags": []
          },
          "execution_count": 45
        }
      ]
    }
  ]
}