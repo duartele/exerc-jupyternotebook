{
  "nbformat": 4,
  "nbformat_minor": 0,
  "metadata": {
    "colab": {
      "name": "PrimeirosComandos.ipynb",
      "provenance": [],
      "authorship_tag": "ABX9TyOL7Vv/1i4OotQ5rJZIPCqQ",
      "include_colab_link": true
    },
    "kernelspec": {
      "name": "python3",
      "display_name": "Python 3"
    }
  },
  "cells": [
    {
      "cell_type": "markdown",
      "metadata": {
        "id": "view-in-github",
        "colab_type": "text"
      },
      "source": [
        "<a href=\"https://colab.research.google.com/github/duartele/exerc-jupyternotebook/blob/main/PrimeirosComandos.ipynb\" target=\"_parent\"><img src=\"https://colab.research.google.com/assets/colab-badge.svg\" alt=\"Open In Colab\"/></a>"
      ]
    },
    {
      "cell_type": "code",
      "metadata": {
        "colab": {
          "base_uri": "https://localhost:8080/"
        },
        "id": "_v85rRtyzfyJ",
        "outputId": "e380728b-f79a-4b64-8d86-05b8e4353c6b"
      },
      "source": [
        "peso = 83.9\n",
        "idade = 19\n",
        "\n",
        "pot = idade ** 2 #Elevar a um potencia - 2 neste exemplo\n",
        "mod = idade % 10 #Resto da divisao inteira\n",
        "div = idade // 3 #Divisao inteira\n",
        "\n",
        "print('pot = ', pot,'mod = ', mod, 'div = ', div)\n",
        "print(type(peso))\n",
        "type(peso) #Na ultima linha nao precisamos usar o comando print"
      ],
      "execution_count": 13,
      "outputs": [
        {
          "output_type": "stream",
          "text": [
            "pot =  361 mod =  9 div =  6\n",
            "<class 'float'>\n"
          ],
          "name": "stdout"
        },
        {
          "output_type": "execute_result",
          "data": {
            "text/plain": [
              "float"
            ]
          },
          "metadata": {
            "tags": []
          },
          "execution_count": 13
        }
      ]
    },
    {
      "cell_type": "code",
      "metadata": {
        "colab": {
          "base_uri": "https://localhost:8080/"
        },
        "id": "bdW5l1s927gB",
        "outputId": "0ed250a9-0f8d-489e-8b27-ae8b8dc3690e"
      },
      "source": [
        "nome = 'Leandro'\n",
        "nome += ' ' + 'Duarte' #Simbolo usado para concatenar\n",
        "print(nome)\n",
        "\n",
        "lista = [1, 2, 3, 4]\n",
        "lista += [5, 6, 7, 8] + [9, 10]\n",
        "print(lista) #Assim como uma string, ao usar '+' nos concatenamos e nao somamos\n",
        "print(lista[0]) #Primeiro elemento\n",
        "print(lista[-1]) #'Ultimo elemento\n",
        "print(lista[1:6]) #Segundo elemento ate o quinto elemento\n",
        "print(lista[-4:]) #quartultimo ate o ultimo elemento\n",
        "\n",
        "variado = [10, 25.5,'Leandro', True, ['Sao Paulo', 'Rio de Janeiro', 'Parana']] #Na lista podemos ter varios tipos, inclusive possuir outras listas\n",
        "\n",
        "variado"
      ],
      "execution_count": 22,
      "outputs": [
        {
          "output_type": "stream",
          "text": [
            "Leandro Duarte\n",
            "[1, 2, 3, 4, 5, 6, 7, 8, 9, 10]\n",
            "1\n",
            "10\n",
            "[2, 3, 4, 5, 6]\n",
            "[7, 8, 9, 10]\n"
          ],
          "name": "stdout"
        },
        {
          "output_type": "execute_result",
          "data": {
            "text/plain": [
              "[10, 25.5, 'Leandro', True, ['Sao Paulo', 'Rio de Janeiro', 'Parana']]"
            ]
          },
          "metadata": {
            "tags": []
          },
          "execution_count": 22
        }
      ]
    },
    {
      "cell_type": "code",
      "metadata": {
        "id": "NUnSKMXN4C9N"
      },
      "source": [
        "def somaEprod(a,b):\n",
        "  s = a + b\n",
        "  p = a * b\n",
        "  return s, p #Diferentemente de Java, a funcao pode ter mais de um retorno"
      ],
      "execution_count": 23,
      "outputs": []
    },
    {
      "cell_type": "code",
      "metadata": {
        "colab": {
          "base_uri": "https://localhost:8080/"
        },
        "id": "FVz7gVqKL3zz",
        "outputId": "3d784b52-69d1-48e3-c44a-0ef7f8fd8458"
      },
      "source": [
        "s,p = somaEprod(2,2) #pode fazer assim para separar os valores\n",
        "print(s,p)\n",
        "somaEprod(2,2) #Ou pode armezenar o resultado numa Tupla"
      ],
      "execution_count": 27,
      "outputs": [
        {
          "output_type": "stream",
          "text": [
            "4 4\n"
          ],
          "name": "stdout"
        },
        {
          "output_type": "execute_result",
          "data": {
            "text/plain": [
              "(4, 4)"
            ]
          },
          "metadata": {
            "tags": []
          },
          "execution_count": 27
        }
      ]
    },
    {
      "cell_type": "code",
      "metadata": {
        "colab": {
          "base_uri": "https://localhost:8080/"
        },
        "id": "EXOng51jM6Z7",
        "outputId": "f26c0772-10f9-4507-ceba-061574c1ca2b"
      },
      "source": [
        "import random\n",
        "\n",
        "print(random.randint(10, 20)) #Importando assim, precisa especificar sempre a biblioteca (random.)"
      ],
      "execution_count": 28,
      "outputs": [
        {
          "output_type": "stream",
          "text": [
            "18\n"
          ],
          "name": "stdout"
        }
      ]
    },
    {
      "cell_type": "code",
      "metadata": {
        "colab": {
          "base_uri": "https://localhost:8080/"
        },
        "id": "dVz-jSsSNW4M",
        "outputId": "2a477c3b-09c6-4637-f428-562256c9f29e"
      },
      "source": [
        "from random import randint\n",
        "\n",
        "print(randint(10, 20)) #Aqui basta chamar diretamente a funcao"
      ],
      "execution_count": 29,
      "outputs": [
        {
          "output_type": "stream",
          "text": [
            "10\n"
          ],
          "name": "stdout"
        }
      ]
    },
    {
      "cell_type": "markdown",
      "metadata": {
        "id": "ffGmMCrDOr71"
      },
      "source": [
        "# Blibiotecas para Ciencia de Dados: 1) Numpy\n",
        "\n",
        "Para mais informacoes acesse https://numpy.org/doc/"
      ]
    },
    {
      "cell_type": "code",
      "metadata": {
        "colab": {
          "base_uri": "https://localhost:8080/"
        },
        "id": "2TgEUQ33O21r",
        "outputId": "4d367d1a-7a19-4b19-9923-6b249ba2f598"
      },
      "source": [
        "import numpy as np #Tao comum esse apelido que o proprio Notebook o sugere\n",
        "\n",
        "a = np.array([2, 3, 5, 6, 8])\n",
        "a.ndim #numero de dimensoes - nesse ex = 1\n",
        "a.shape #formato - 5 elementos nessa unica dimen"
      ],
      "execution_count": 32,
      "outputs": [
        {
          "output_type": "execute_result",
          "data": {
            "text/plain": [
              "(5,)"
            ]
          },
          "metadata": {
            "tags": []
          },
          "execution_count": 32
        }
      ]
    }
  ]
}