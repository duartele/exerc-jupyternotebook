{
  "nbformat": 4,
  "nbformat_minor": 0,
  "metadata": {
    "colab": {
      "name": "PrimeirosComandos.ipynb",
      "provenance": [],
      "authorship_tag": "ABX9TyPOw4FHyodm8+1BHSnLrbwi",
      "include_colab_link": true
    },
    "kernelspec": {
      "name": "python3",
      "display_name": "Python 3"
    }
  },
  "cells": [
    {
      "cell_type": "markdown",
      "metadata": {
        "id": "view-in-github",
        "colab_type": "text"
      },
      "source": [
        "<a href=\"https://colab.research.google.com/github/duartele/exerc-jupyternotebook/blob/main/PrimeirosComandos.ipynb\" target=\"_parent\"><img src=\"https://colab.research.google.com/assets/colab-badge.svg\" alt=\"Open In Colab\"/></a>"
      ]
    },
    {
      "cell_type": "code",
      "metadata": {
        "id": "F9C-jH35PsQR"
      },
      "source": [
        "import numpy as np\n",
        "import pandas as pd\n",
        "import matplotlib.pyplot as plt"
      ],
      "execution_count": null,
      "outputs": []
    },
    {
      "cell_type": "code",
      "metadata": {
        "id": "OyGF9ftkE846"
      },
      "source": [
        "from sklearn.preprocessing import MinMaxScaler\n",
        "from sklearn.model_selection import train_test_split\n",
        "from sklearn.neighbors import KNeighborsClassifier\n",
        "from sklearn.metrics import accuracy_score"
      ],
      "execution_count": null,
      "outputs": []
    },
    {
      "cell_type": "code",
      "metadata": {
        "id": "_v85rRtyzfyJ"
      },
      "source": [
        "peso = 83.9\n",
        "idade = 19\n",
        "\n",
        "pot = idade ** 2 #Elevar a um potencia - 2 neste exemplo\n",
        "mod = idade % 10 #Resto da divisao inteira\n",
        "div = idade // 3 #Divisao inteira\n",
        "\n",
        "print('pot = ', pot,'mod = ', mod, 'div = ', div)\n",
        "print(type(peso))\n",
        "type(peso) #Na ultima linha nao precisamos usar o comando print"
      ],
      "execution_count": null,
      "outputs": []
    },
    {
      "cell_type": "code",
      "metadata": {
        "id": "bdW5l1s927gB"
      },
      "source": [
        "nome = 'Leandro'\n",
        "nome += ' ' + 'Duarte' #Simbolo usado para concatenar\n",
        "print(nome)\n",
        "\n",
        "lista = [1, 2, 3, 4]\n",
        "lista += [5, 6, 7, 8] + [9, 10]\n",
        "print(lista) #Assim como uma string, ao usar '+' nos concatenamos e nao somamos\n",
        "print(lista[0]) #Primeiro elemento\n",
        "print(lista[-1]) #'Ultimo elemento\n",
        "print(lista[1:6]) #Segundo elemento ate o quinto elemento\n",
        "print(lista[-4:]) #quartultimo ate o ultimo elemento\n",
        "\n",
        "variado = [10, 25.5,'Leandro', True, ['Sao Paulo', 'Rio de Janeiro', 'Parana']] #Na lista podemos ter varios tipos, inclusive possuir outras listas\n",
        "\n",
        "variado"
      ],
      "execution_count": null,
      "outputs": []
    },
    {
      "cell_type": "code",
      "metadata": {
        "id": "NUnSKMXN4C9N"
      },
      "source": [
        "def somaEprod(a,b):\n",
        "  s = a + b\n",
        "  p = a * b\n",
        "  return s, p #Diferentemente de Java, a funcao pode ter mais de um retorno"
      ],
      "execution_count": null,
      "outputs": []
    },
    {
      "cell_type": "code",
      "metadata": {
        "id": "FVz7gVqKL3zz"
      },
      "source": [
        "s,p = somaEprod(2,2) #pode fazer assim para separar os valores\n",
        "print(s,p)\n",
        "somaEprod(2,2) #Ou pode armezenar o resultado numa Tupla"
      ],
      "execution_count": null,
      "outputs": []
    },
    {
      "cell_type": "code",
      "metadata": {
        "id": "EXOng51jM6Z7"
      },
      "source": [
        "import random\n",
        "\n",
        "print(random.randint(10, 20)) #Importando assim, precisa especificar sempre a biblioteca (random.)"
      ],
      "execution_count": null,
      "outputs": []
    },
    {
      "cell_type": "code",
      "metadata": {
        "id": "dVz-jSsSNW4M"
      },
      "source": [
        "from random import randint\n",
        "\n",
        "print(randint(10, 20)) #Aqui basta chamar diretamente a funcao"
      ],
      "execution_count": null,
      "outputs": []
    },
    {
      "cell_type": "markdown",
      "metadata": {
        "id": "ffGmMCrDOr71"
      },
      "source": [
        "# Blibiotecas para Ciencia de Dados: 1) Numpy\n",
        "\n",
        "Para mais informacoes acesse https://numpy.org/doc/"
      ]
    },
    {
      "cell_type": "code",
      "metadata": {
        "id": "2TgEUQ33O21r"
      },
      "source": [
        "import numpy as np #Tao comum esse apelido que o proprio Notebook o sugere\n",
        "'''arrays - eixo 0 vertical (col), eixo 1 horizontal(linha)\n",
        "([1,2,3,4])               ([2,3,1],[4,5,1])               ([])\n",
        "shape(4,) 1 dim           shape(2,3) 2dim                 matriz de cores RGB shape (3,200,200)\n",
        "'''\n",
        "a = np.array([2, 3, 5, 6, 8])\n",
        "a.ndim #numero de dimensoes - nesse ex = 1\n",
        "a.shape #formato - 5 elementos nessa unica dimen"
      ],
      "execution_count": null,
      "outputs": []
    },
    {
      "cell_type": "code",
      "metadata": {
        "id": "LrecgcjMYv42"
      },
      "source": [
        "a = np.zeros((3,2)) # Gera uma matriz de zeros (3 linhas x 2 colunas)\n",
        "a = np.ones((1,2)) # Gera uma matriz de 1 (1 x 2)\n",
        "a = np.ones((3,2,4)) #Matriz 3D como se fossem 3 matrizes 2x4\n",
        "a"
      ],
      "execution_count": null,
      "outputs": []
    },
    {
      "cell_type": "code",
      "metadata": {
        "id": "s-AVQ_JNkwCC"
      },
      "source": [
        "a = np.arange(5) #Comando para criar vetores (de 0 ate 4)\n",
        "a = np.arange(2,5) #Comando para criar vetores (de 2 ate 4) como um fatiamento\n",
        "a"
      ],
      "execution_count": null,
      "outputs": []
    },
    {
      "cell_type": "code",
      "metadata": {
        "id": "gBiSVjPEjUSh"
      },
      "source": [
        "a = np.random.random((3,2)) # gera aleatorios entre 0 e 1\n",
        "b = np.random.randint(20,size=(3,2)) # gera aleatorios entre 0 e 20 formando uma matriz 3x2\n",
        "b "
      ],
      "execution_count": null,
      "outputs": []
    },
    {
      "cell_type": "code",
      "metadata": {
        "id": "yK_tiHk6N1IK"
      },
      "source": [
        "print(a + 10) #podemos fazer operacoes com arrays - somar 10 a cada elemento\n",
        "print(a > 5) #tambem ppodemos fazer comparacoes\n",
        "b = a + 10\n",
        "print(a + b) #podemos, desde que faca sentido, fazer operacoes entre arrays\n",
        "'''\n",
        "suponha a=[(1,2)] e b=[(1,2,3)]         eh impossivel fazer a+b\n",
        "agora se a=[(1,2)] e b=[(1,2),          a soma a+b fara sentido (embora careca de propriedade matematica\n",
        "                        (3,4),          sera somado 1 a cada elemento da primeira col e 2 a cada da segunda - broadingcast)\n",
        "                        (5,6)]\n",
        "'''"
      ],
      "execution_count": null,
      "outputs": []
    },
    {
      "cell_type": "code",
      "metadata": {
        "id": "xgL2Fh1VSP3i"
      },
      "source": [
        "#np.dot(a, b) #produto escalar\n",
        "#np.multiply(a,b) #faz a multiplicacao elemento a elemento, nao o produto escalar\n",
        "#a.T #T (t maisculo) faz a transposta, mas so funciona com matrizes"
      ],
      "execution_count": null,
      "outputs": []
    },
    {
      "cell_type": "code",
      "metadata": {
        "id": "N8n8eat8StXp"
      },
      "source": [
        "a = np.random.randint(10,size=(2,2))\n",
        "print(a)\n",
        "print('--------')\n",
        "b = np.random.randint(10,size=(2,2))\n",
        "print(b)"
      ],
      "execution_count": null,
      "outputs": []
    },
    {
      "cell_type": "code",
      "metadata": {
        "id": "GkCvlirLTNnQ"
      },
      "source": [
        "print(a+b)\n",
        "print(a-b)\n",
        "print(a>b)"
      ],
      "execution_count": null,
      "outputs": []
    },
    {
      "cell_type": "code",
      "metadata": {
        "id": "geYGFKrvTnED"
      },
      "source": [
        "a = np.random.randint(10,size=(5,))\n",
        "np.sum(a) #ou a.sum() soma os elementos de a\n",
        "np.mean(a) #ou a.mean() calcula a media dos elementos de a\n",
        "#temos tambem median() std() max() min()"
      ],
      "execution_count": null,
      "outputs": []
    },
    {
      "cell_type": "code",
      "metadata": {
        "id": "EKEvsk4JxIi8"
      },
      "source": [
        "a = np.random.randint(10,size=(3,4))\n",
        "print(a)\n",
        "print(np.sum(a)) #somar todos os elementos\n",
        "print(np.sum(a, axis=1)) #ou somar apenas os elementos de um eixo (1 no caso)"
      ],
      "execution_count": null,
      "outputs": []
    },
    {
      "cell_type": "code",
      "metadata": {
        "id": "GKDwEux_zxvQ"
      },
      "source": [
        "a = np.random.randint(10,size=(18,)) #vetor com 18 elementos\n",
        "b = a.reshape(6,3) #matriz 6 linhas x 3 colunas\n"
      ],
      "execution_count": null,
      "outputs": []
    },
    {
      "cell_type": "code",
      "metadata": {
        "id": "BzFc6On-2vkh"
      },
      "source": [
        "a = np.random.randint(10,size=(10,))\n",
        "print(a[3])\n",
        "print(a[-5:])\n",
        "print(a[[1,3,7]]) #podemos pegar elementos diversos num array - isso nao poderia ser feito numa lista\n",
        "print(a[[False, True, False, True, False, False, False, True, False, False]]) #Outra forma de selecionar alguns elementos\n",
        "print(a[a%2==0]) #print em elementos pares"
      ],
      "execution_count": null,
      "outputs": []
    },
    {
      "cell_type": "code",
      "metadata": {
        "id": "8W1r1GMWDNCX"
      },
      "source": [
        "a = np.random.randint(10,size=(5,6))\n",
        "print(a)\n",
        "print(a[0,3]) #primeira linha 3 coluna (posicao 2 da coluna)\n",
        "print(a[:,1]) #todos os elementos da segunda coluna\n",
        "print(a[1:3,2:5]) # pegara os elementos das linhas 1 e 2 e das colunas da 2 a 4\n",
        "print(a>8) # mostrara True/False para cada elemento da matriz\n",
        "print(a[a>8]) #mostrara apenas os valores maiores que 8 e, por causa disso, sera transformado num vetor(array)"
      ],
      "execution_count": null,
      "outputs": []
    },
    {
      "cell_type": "markdown",
      "metadata": {
        "id": "GOgL3qjGOiMP"
      },
      "source": [
        "# 2) Pandas - Manipulacao de Tabelas por Data Frames\n",
        "Para mais informacoes [clique aqui](https://pandas.pydata.org/docs/user_guide/index.html)"
      ]
    },
    {
      "cell_type": "code",
      "metadata": {
        "id": "AA4DYgPFPEA2"
      },
      "source": [
        "df = pd.read_csv('titanic.csv') #leitura de arquivo csv - criacao de um data frame\n",
        "type(df)"
      ],
      "execution_count": null,
      "outputs": []
    },
    {
      "cell_type": "code",
      "metadata": {
        "id": "cEIrnL9kwytR"
      },
      "source": [
        "#df.head() #mostra as 5 primeiras obs (defaut), mas voce pode mudar o parametro (por ex df.head(17))\n",
        "#df.tail() #mostra as 5 ultimas obs\n",
        "#df.shape\n",
        "#df.columns\n",
        "#df.dtypes\n",
        "#df.describe()\n",
        "#df.sum()\n",
        "#df.mean()\n",
        "#df.isna() #retorna um dataframe com valores True/False para cada elemento - pouco util\n",
        "df.isna().sum() #conta a quantidade de itens nulo naquela varialvel"
      ],
      "execution_count": null,
      "outputs": []
    },
    {
      "cell_type": "code",
      "metadata": {
        "id": "I4yZDmmDNmKZ"
      },
      "source": [
        "df_toy = pd.DataFrame(data=np.random.randint(20,size=(8,4)),\n",
        "                      index=['a', 'b', 'c', 'd', 'e', 'f', 'g', 'h'],\n",
        "                      columns=['Col 1', 'Col 2', 'Col 3', 'Col 4'])\n",
        "df_toy"
      ],
      "execution_count": null,
      "outputs": []
    },
    {
      "cell_type": "code",
      "metadata": {
        "id": "xjC6dbp6ov0S"
      },
      "source": [
        "#col_um = df_toy['Col 1']\n",
        "#print(col_um)\n",
        "#print(type(col_um))\n",
        "#col_um_quatro = df_toy[['Col 1', 'Col 4']]\n",
        "#print(col_um_quatro)\n",
        "#linhas = df_toy[2:6] #linha c ate a posicao 5 - mas se digitar um num da erro\n",
        "col_um_sup10 = df_toy[df_toy['Col 1'] > 10]"
      ],
      "execution_count": null,
      "outputs": []
    },
    {
      "cell_type": "markdown",
      "metadata": {
        "id": "fmMyqhxbtIcA"
      },
      "source": [
        "Pelo problema mencionado no ultimo #\n",
        "precisamos usar .loc (label) e .iloc (index)"
      ]
    },
    {
      "cell_type": "code",
      "metadata": {
        "id": "ixH4BYzZtBDd"
      },
      "source": [
        "#Podemos selecionar uma linha pela sua label\n",
        "df_toy.loc['a', :] #todas as colunas da linha 'a'\n",
        "df_toy.loc[:, 'Col 3'] #todas as linhas da coluna 3\n",
        "df_toy.loc[['b', 'g', 'g', 'e'], ['Col 3', 'Col 2']] # fica na ordem que voce especificar, podendo repetir como feito na linha g\n",
        "#Mesmas selecoes usando iloc:\n",
        "#df_toy.iloc[0, :] \n",
        "#df_toy.iloc[:, 2]\n",
        "#df_toy.iloc[[1, 6, 6, 4], [2, 1]]\n",
        "#Podemosusar booleanos tant no loc quanto no iloc\n",
        "print(df_toy.loc[[True, False, False, True, True, False, False, True], [True, True, False, False]])\n",
        "print(df_toy.iloc[[True, False, False, True, True, False, False, True], [True, True, False, False]])"
      ],
      "execution_count": null,
      "outputs": []
    },
    {
      "cell_type": "markdown",
      "metadata": {
        "id": "33x3W0S_y8mh"
      },
      "source": [
        "###Operacoes com DataFrames"
      ]
    },
    {
      "cell_type": "code",
      "metadata": {
        "id": "T1UqSg8AzCpJ"
      },
      "source": [
        "#Vamos add uma coluna na df\n",
        "df.loc[:,'Coluna Aleatoria'] = np.random.randint(20,size=(df.shape[0],)) #shaoe[0] sign linha (shape[1] eh coluna)"
      ],
      "execution_count": null,
      "outputs": []
    },
    {
      "cell_type": "code",
      "metadata": {
        "id": "9f2FEE961TuW"
      },
      "source": [
        "#df.drop(0) #remove a primeira linha, mas nao esta mudando a df na realidade apenas criando uma copia temporaria\n",
        "#df = df.drop(0) #aqui sim a linha seria realmente removida\n",
        "#df.drop(0, inplace=True) #outra forma de fazer a remocao e salvar no df original"
      ],
      "execution_count": null,
      "outputs": []
    },
    {
      "cell_type": "code",
      "metadata": {
        "id": "TzEaVv3h6Y_T"
      },
      "source": [
        "#para remover uma(ou mais) coluna, precisamos especificar com columns\n",
        "df.drop(columns=['Coluna Aleatoria'])"
      ],
      "execution_count": null,
      "outputs": []
    },
    {
      "cell_type": "markdown",
      "metadata": {
        "id": "JyXveH4s7wdC"
      },
      "source": [
        "Tratando valores nulos fillna() e dropna()"
      ]
    },
    {
      "cell_type": "code",
      "metadata": {
        "id": "E8tjkERM7vOE"
      },
      "source": [
        "idade_media = int(df['Age'].mean()) #arredondar para int\n",
        "df.loc[:,'Age'] = df.loc[:,'Age'].fillna(idade_media) #Valores nulos serao substituidos pela media da idade (29)"
      ],
      "execution_count": null,
      "outputs": []
    },
    {
      "cell_type": "code",
      "metadata": {
        "id": "6USiwBGV-76O"
      },
      "source": [
        "df.dropna(axis=1,thresh=600,inplace=True) #removera todas as colunas(axis=1) que tiverem mais de 600 obs com na - so cabin neste ex\n",
        "df.dropna(axis=0,subset=['Embarked','Age'],inplace=True) #removera todas as linhas(axis=0) que tiverem NA na col Embarked e na Age (nao tem NA la)"
      ],
      "execution_count": null,
      "outputs": []
    },
    {
      "cell_type": "code",
      "metadata": {
        "id": "WtuiJPqPAv9d"
      },
      "source": [
        "def calc_faixa_etaria(idade):\n",
        "  if idade < 13:\n",
        "    return 'Crianca'\n",
        "  elif idade < 18:\n",
        "    return 'Adolescente'\n",
        "  elif idade < 60:\n",
        "    return 'Adulto'\n",
        "  else:\n",
        "    return 'Idoso'"
      ],
      "execution_count": null,
      "outputs": []
    },
    {
      "cell_type": "code",
      "metadata": {
        "id": "FHvos9EDC9Jn"
      },
      "source": [
        "#Forma manual de aplicar uma funcao - ineficiente num DF com muitas obs\n",
        "faixas_etarias = []\n",
        "for i in range(df.shape[0]):\n",
        "  idade = df.iloc[i,5] #Age eh coluna 5\n",
        "  faixa = calc_faixa_etaria(idade)\n",
        "  faixas_etarias.append(faixa)"
      ],
      "execution_count": null,
      "outputs": []
    },
    {
      "cell_type": "code",
      "metadata": {
        "id": "H3NZO-DQE7vl"
      },
      "source": [
        "#funcao apply() eh mais eficiente do que fazer um laco\n",
        "faixas_etarias = df['Age'].apply(calc_faixa_etaria)"
      ],
      "execution_count": null,
      "outputs": []
    },
    {
      "cell_type": "code",
      "metadata": {
        "id": "1mGBDdMUF-sm"
      },
      "source": [
        "df.loc[:,'Faixa Etaria'] = faixas_etarias"
      ],
      "execution_count": null,
      "outputs": []
    },
    {
      "cell_type": "code",
      "metadata": {
        "id": "i1IMmVqcGmPB"
      },
      "source": [
        "#para salvar o dataFrame\n",
        "df.to_csv('dados_editados.csv', index=False)"
      ],
      "execution_count": null,
      "outputs": []
    },
    {
      "cell_type": "markdown",
      "metadata": {
        "id": "5JKy2m9Zzprg"
      },
      "source": [
        "## 3) Matplotlib - modulo pyplot- biblioteca para graficos\n",
        "Para maiores informacoes [clique aqui](https://matplotlib.org/)"
      ]
    },
    {
      "cell_type": "code",
      "metadata": {
        "id": "AA72mLTY0DNy"
      },
      "source": [
        "empresa_a = (1000, 1500, 1200, 3000, 2100, 2000)\n",
        "empresa_b = (750, 2300, 1000, 500, 1200, 1500)\n",
        "plt.plot(empresa_a) #grafico de linha - assume ser eixo y"
      ],
      "execution_count": null,
      "outputs": []
    },
    {
      "cell_type": "code",
      "metadata": {
        "id": "rOL1utW25i0K"
      },
      "source": [
        "plt.figure(figsize=(10,6)) #precisa executar antes de gerar o grafico - os proximos estarao com o tamanho defaut\n",
        "plt.plot(['jan', 'fev', 'mar', 'abr', 'maio', 'jun'],empresa_a) #colocando valores no eixo x\n",
        "#para tirar o endereco do grafico (retorno da funcao, basta colocar ponto e virgula ao final do comando)\n",
        "# ; vale para qualquer termino de comando, nao apenas graficos\n",
        "'''\n",
        "Por exemplo:\n",
        "a=5                                       a=5\n",
        "a #vai imprimir 5 na tela                 a; #NAO vai mostrar 5 na tela \n",
        "''';"
      ],
      "execution_count": null,
      "outputs": []
    },
    {
      "cell_type": "code",
      "metadata": {
        "id": "b8ZlX7jG6f9-"
      },
      "source": [
        "#Alterando o estilo do grafico\n",
        "plt.plot(empresa_a, marker='o', linestyle='--', color='green', label = 'Empresa A')\n",
        "plt.plot(empresa_b, '-x', color='blue', label = 'Empresa B')\n",
        "#Em vez de escrever marker and linestely da pra simplificar assim: plt.plot(empresa_a, '--o', color='green')\n",
        "plt.title('Lucros')\n",
        "plt.xlabel('Mes')\n",
        "plt.ylabel('Valor em R$')\n",
        "plt.legend(); #So vai funcionar se no plt.plot voce adicionar o parametro label = ''..."
      ],
      "execution_count": null,
      "outputs": []
    },
    {
      "cell_type": "markdown",
      "metadata": {
        "id": "EfZo9E-R-P4e"
      },
      "source": [
        "### Vizualizacoes univariadas"
      ]
    },
    {
      "cell_type": "code",
      "metadata": {
        "id": "GJFd--Yi-UKL"
      },
      "source": [
        "df = pd.read_csv('penguins_size.csv')\n",
        "df.head()"
      ],
      "execution_count": null,
      "outputs": []
    },
    {
      "cell_type": "code",
      "metadata": {
        "id": "itKq0qqj_Ehx"
      },
      "source": [
        "# grafico de barrar .bar\n",
        "altura = (10, 5, 6, 2, 7)\n",
        "posicao = (1, 2, 3, 4, 5)\n",
        "plt.bar(posicao,altura);"
      ],
      "execution_count": null,
      "outputs": []
    },
    {
      "cell_type": "code",
      "metadata": {
        "id": "xNdcXrzeAD0o"
      },
      "source": [
        "contagem_classes = df['species'].value_counts()\n",
        "#print(contagem_classes.index)\n",
        "#print(type(contagem_classes))\n",
        "classes = list(contagem_classes.index)\n",
        "contagem = contagem_classes.values\n",
        "#print(classes)\n",
        "#print(contagem)\n",
        "plt.bar(classes, contagem);"
      ],
      "execution_count": null,
      "outputs": []
    },
    {
      "cell_type": "code",
      "metadata": {
        "id": "JyEmFwa-Ec34"
      },
      "source": [
        "plt.hist(df['culmen_length_mm'], bins=20) # cria histogramas com o numero de bins que voce escolher"
      ],
      "execution_count": null,
      "outputs": []
    },
    {
      "cell_type": "code",
      "metadata": {
        "id": "1xVhUPatF3kz"
      },
      "source": [
        "plt.scatter(df['body_mass_g'],df['flipper_length_mm'],)\n",
        "plt.xlabel('Massa Corporal (g)')\n",
        "plt.ylabel('Comprimento das asas (mm)');"
      ],
      "execution_count": null,
      "outputs": []
    },
    {
      "cell_type": "markdown",
      "metadata": {
        "id": "_x16Jxjtq5Ng"
      },
      "source": [
        "# 4) Scikit-learn - biblioteca com os algoritmos mais famosos de ML\n",
        "Para maiores informacoes [clique aqui](https://scikit-learn.org/stable/index.html)"
      ]
    },
    {
      "cell_type": "code",
      "metadata": {
        "id": "ysm1a8SbsAwO"
      },
      "source": [
        "df = pd.read_csv('dados_editados.csv')\n",
        "print(df.columns)\n",
        "df.drop(columns=['PassengerId', 'Name', 'Ticket', 'Faixa etaria'],inplace=True) #retirando colunas inuteis"
      ],
      "execution_count": null,
      "outputs": []
    },
    {
      "cell_type": "code",
      "metadata": {
        "id": "qDpow5RI3J1o"
      },
      "source": [
        "#primeiro vamos verificar quais atributos nao sao numericos\n",
        "for col in df.columns:\n",
        "  if df[col].dtype == object:\n",
        "    print(col)"
      ],
      "execution_count": null,
      "outputs": []
    },
    {
      "cell_type": "code",
      "metadata": {
        "id": "rHHp0NYdsr53"
      },
      "source": [
        "df = pd.get_dummies(df)"
      ],
      "execution_count": null,
      "outputs": []
    },
    {
      "cell_type": "code",
      "metadata": {
        "id": "cqBJ8uRe3xra"
      },
      "source": [
        "#from sklearn.preprocessing import MinMaxScaler\n",
        "scaler = MinMaxScaler()\n",
        "scaler.fit(df)\n",
        "df = pd.DataFrame(scaler.transform(df), columns=df.columns)"
      ],
      "execution_count": null,
      "outputs": []
    },
    {
      "cell_type": "code",
      "metadata": {
        "id": "bACNCV12ug3l"
      },
      "source": [
        "target = 'Survived'\n",
        "features = list(df.columns)\n",
        "features.remove(target)\n",
        "\n",
        "print('Features: ', features)\n",
        "print('Target: ', target)"
      ],
      "execution_count": null,
      "outputs": []
    },
    {
      "cell_type": "code",
      "metadata": {
        "id": "xxPUzMuAvfkC"
      },
      "source": [
        "#from sklearn.model_selection import train_test_split\n",
        "X_train, X_val, Y_train, Y_val = train_test_split(df[features], df[target], test_size=0.2, random_state=42)\n",
        "#print(X_train.shape)\n",
        "#print(X_val.shape)\n",
        "#print(Y_train.shape)\n",
        "#print(Y_val.shape)"
      ],
      "execution_count": null,
      "outputs": []
    },
    {
      "cell_type": "code",
      "metadata": {
        "id": "02hHtxUsyHiX"
      },
      "source": [
        "#from sklearn.neighbors import KNeighborsClassifier\n",
        "\n",
        "#Criando um modelo com apenas 1 vizinho\n",
        "clf = KNeighborsClassifier(n_neighbors=1)\n",
        "#Treinando o modelo com os dados de treino\n",
        "clf.fit(X_train, Y_train)"
      ],
      "execution_count": null,
      "outputs": []
    },
    {
      "cell_type": "code",
      "metadata": {
        "id": "qG49ug1_zTuq"
      },
      "source": [
        "Y_pred = clf.predict(X_val)"
      ],
      "execution_count": null,
      "outputs": []
    },
    {
      "cell_type": "code",
      "metadata": {
        "id": "wYRIuo9v0KeF"
      },
      "source": [
        "#from sklearn.metrics import accuracy_score\n",
        "\n",
        "acc = accuracy_score(Y_val, Y_pred)\n",
        "print('Acuracia =', acc)"
      ],
      "execution_count": null,
      "outputs": []
    },
    {
      "cell_type": "code",
      "metadata": {
        "id": "wgI4-Z204HbV"
      },
      "source": [
        "n_vizinhos = np.arange(1,11)\n",
        "resultados = []\n",
        "for k in n_vizinhos:\n",
        "  clf = KNeighborsClassifier(n_neighbors=k)\n",
        "  clf.fit(X_train, Y_train)\n",
        "  Y_pred = clf.predict(X_val)\n",
        "  acc = accuracy_score(Y_val,Y_pred)\n",
        "  resultados.append(acc)"
      ],
      "execution_count": null,
      "outputs": []
    },
    {
      "cell_type": "code",
      "metadata": {
        "id": "XxLIk0V58CW6"
      },
      "source": [
        "plt.plot(n_vizinhos, resultados, '-o')\n",
        "plt.xticks(n_vizinhos);"
      ],
      "execution_count": null,
      "outputs": []
    }
  ]
}