{
  "nbformat": 4,
  "nbformat_minor": 0,
  "metadata": {
    "colab": {
      "name": "TimeSeries.ipynb",
      "provenance": [],
      "authorship_tag": "ABX9TyM3AoLg4r+c2ShquOZ4wDp0",
      "include_colab_link": true
    },
    "kernelspec": {
      "name": "python3",
      "display_name": "Python 3"
    },
    "language_info": {
      "name": "python"
    }
  },
  "cells": [
    {
      "cell_type": "markdown",
      "metadata": {
        "id": "view-in-github",
        "colab_type": "text"
      },
      "source": [
        "<a href=\"https://colab.research.google.com/github/duartele/exerc-jupyternotebook/blob/main/TimeSeries.ipynb\" target=\"_parent\"><img src=\"https://colab.research.google.com/assets/colab-badge.svg\" alt=\"Open In Colab\"/></a>"
      ]
    },
    {
      "cell_type": "code",
      "execution_count": null,
      "metadata": {
        "id": "E3TmVeqVgDOX"
      },
      "outputs": [],
      "source": [
        "import pandas as pd\n",
        "\n",
        "df = pd.read_csv(\"../input/ts-course-data/book_sales.csv\", index_col='Date', parse_dates=['Date'],\n",
        ").drop('Paperback', axis=1)"
      ]
    },
    {
      "cell_type": "markdown",
      "source": [
        "There are two features in Time Series: 1) Time step (time dummy) and 2) Lag Features - choose the 'shift' size and let you model serial dependence."
      ],
      "metadata": {
        "id": "QtUdiKQQhNQ5"
      }
    },
    {
      "cell_type": "code",
      "source": [
        "import numpy as np\n",
        "\n",
        "df['Time'] = np.arange(len(df.index))"
      ],
      "metadata": {
        "id": "Pvn-dys2gMD6"
      },
      "execution_count": null,
      "outputs": []
    },
    {
      "cell_type": "code",
      "source": [
        "import matplotlib.pyplot as plt\n",
        "import seaborn as sns\n",
        "plt.style.use(\"seaborn-whitegrid\")\n",
        "plt.rc(\n",
        "    \"figure\",\n",
        "    autolayout=True,\n",
        "    figsize=(11, 4),\n",
        "    titlesize=18,\n",
        "    titleweight='bold',\n",
        ")\n",
        "plt.rc(\n",
        "    \"axes\",\n",
        "    labelweight=\"bold\",\n",
        "    labelsize=\"large\",\n",
        "    titleweight=\"bold\",\n",
        "    titlesize=16,\n",
        "    titlepad=10,\n",
        ")\n",
        "%config InlineBackend.figure_format = 'retina'\n",
        "\n",
        "fig, ax = plt.subplots()\n",
        "ax.plot('Time', 'Hardcover', data=df, color='0.75')\n",
        "ax = sns.regplot(x='Time', y='Hardcover', data=df, ci=None, scatter_kws=dict(color='0.25'))\n",
        "ax.set_title('Time Plot of Hardcover Sales');"
      ],
      "metadata": {
        "id": "7-iQpH50gL71"
      },
      "execution_count": null,
      "outputs": []
    },
    {
      "cell_type": "markdown",
      "source": [
        "Using Lag_1 we are comparing the value in m and m-1"
      ],
      "metadata": {
        "id": "6jvrjLxPiX3x"
      }
    },
    {
      "cell_type": "code",
      "source": [
        "df['Lag_1'] = df['Hardcover'].shift(1)\n",
        "df = df.reindex(columns=['Hardcover', 'Lag_1'])"
      ],
      "metadata": {
        "id": "H6D1gvRugL1V"
      },
      "execution_count": null,
      "outputs": []
    },
    {
      "cell_type": "code",
      "source": [
        "fig, ax = plt.subplots()\n",
        "ax = sns.regplot(x='Lag_1', y='Hardcover', data=df, ci=None, scatter_kws=dict(color='0.25'))\n",
        "ax.set_aspect('equal')\n",
        "ax.set_title('Lag Plot of Hardcover Sales');"
      ],
      "metadata": {
        "id": "5lB1ZFz5gLuX"
      },
      "execution_count": null,
      "outputs": []
    },
    {
      "cell_type": "markdown",
      "source": [
        "The first obs will be NAN. We can drop it or fill it with a number "
      ],
      "metadata": {
        "id": "VE1ieHEZsU08"
      }
    },
    {
      "cell_type": "code",
      "source": [
        "from sklearn.linear_model import LinearRegression\n",
        "\n",
        "X = df.loc[:, ['Lag_1']]\n",
        "X.dropna(inplace=True)  # drop missing values in the feature set\n",
        "y = df.loc[:, 'NumVehicles']  # create the target\n",
        "y, X = y.align(X, join='inner')  # drop corresponding values in target\n",
        "\n",
        "model = LinearRegression()\n",
        "model.fit(X, y)\n",
        "\n",
        "y_pred = pd.Series(model.predict(X), index=X.index)"
      ],
      "metadata": {
        "id": "Cu5K4rYQgLnt"
      },
      "execution_count": null,
      "outputs": []
    },
    {
      "cell_type": "markdown",
      "source": [
        "Trend"
      ],
      "metadata": {
        "id": "uuYA4oXp52ta"
      }
    },
    {
      "cell_type": "code",
      "source": [
        "moving_average = tunnel.rolling(\n",
        "    window=365,       # 365-day window\n",
        "    center=True,      # puts the average at the center of the window\n",
        "    min_periods=183,  # choose about half the window size\n",
        ").mean()              # compute the mean (could also do median, std, min, max, ...)\n",
        "\n",
        "ax = tunnel.plot(style=\".\", color=\"0.5\")\n",
        "moving_average.plot(\n",
        "    ax=ax, linewidth=3, title=\"Tunnel Traffic - 365-Day Moving Average\", legend=False,\n",
        ");"
      ],
      "metadata": {
        "id": "ioFqQd61gLgw"
      },
      "execution_count": null,
      "outputs": []
    },
    {
      "cell_type": "code",
      "source": [
        "from statsmodels.tsa.deterministic import DeterministicProcess\n",
        "\n",
        "dp = DeterministicProcess(\n",
        "    index=tunnel.index,  # dates from the training data\n",
        "    constant=True,       # dummy feature for the bias (y_intercept)\n",
        "    order=1,             # the time dummy (trend) - 1 for linear, 2 for quadratic, 3 for cubic\n",
        "    drop=True,           # drop terms if necessary to avoid collinearity\n",
        ")\n",
        "# `in_sample` creates features for the dates given in the `index` argument\n",
        "X = dp.in_sample()"
      ],
      "metadata": {
        "id": "PNe9-9Q_gLYB"
      },
      "execution_count": null,
      "outputs": []
    },
    {
      "cell_type": "markdown",
      "source": [
        "`in_sample` creates features for the dates given in the `index` argument\n",
        "X = dp.in_sample()"
      ],
      "metadata": {
        "id": "uoFpp5Eb6-kz"
      }
    },
    {
      "cell_type": "code",
      "source": [
        "X = dp.out_of_sample(steps=30)\n",
        "y_fore = pd.Series(model.predict(X), index=X.index)\n",
        "y_fore.head()"
      ],
      "metadata": {
        "id": "cZoTcsWHgLLs"
      },
      "execution_count": null,
      "outputs": []
    },
    {
      "cell_type": "markdown",
      "source": [
        "The trend models we learned about in this lesson turn out to be useful for a number of reasons. Besides acting as a baseline or starting point for more sophisticated models, we can also use them as a component in a \"hybrid model\" with algorithms unable to learn trends (like XGBoost and random forests)."
      ],
      "metadata": {
        "id": "_y5IShKC7thA"
      }
    },
    {
      "cell_type": "markdown",
      "source": [
        "Splines are a nice alternative to polynomials when you want to fit a trend. The Multivariate Adaptive Regression Splines (MARS) algorithm in the pyearth library is powerful and easy to use. There are a lot of hyperparameters you may want to investigate."
      ],
      "metadata": {
        "id": "bbDMlDqT_c2F"
      }
    },
    {
      "cell_type": "code",
      "source": [
        "from pyearth import Earth\n",
        "\n",
        "# Target and features are the same as before\n",
        "y = average_sales.copy()\n",
        "dp = DeterministicProcess(index=y.index, order=1)\n",
        "X = dp.in_sample()\n",
        "\n",
        "# Fit a MARS model with `Earth`\n",
        "model = Earth()\n",
        "model.fit(X, y)\n",
        "\n",
        "y_pred = pd.Series(model.predict(X), index=X.index)\n",
        "\n",
        "ax = y.plot(**plot_params, title=\"Average Sales\", ylabel=\"items sold\")\n",
        "ax = y_pred.plot(ax=ax, linewidth=3, label=\"Trend\")"
      ],
      "metadata": {
        "id": "sKKt6han7MvA"
      },
      "execution_count": null,
      "outputs": []
    }
  ]
}