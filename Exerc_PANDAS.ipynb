{
  "nbformat": 4,
  "nbformat_minor": 0,
  "metadata": {
    "colab": {
      "name": "Exerc_PANDAS.ipynb",
      "provenance": [],
      "authorship_tag": "ABX9TyPGmeYKoIhQzztq0AVeHT97",
      "include_colab_link": true
    },
    "kernelspec": {
      "name": "python3",
      "display_name": "Python 3"
    },
    "language_info": {
      "name": "python"
    }
  },
  "cells": [
    {
      "cell_type": "markdown",
      "metadata": {
        "id": "view-in-github",
        "colab_type": "text"
      },
      "source": [
        "<a href=\"https://colab.research.google.com/github/duartele/exerc-jupyternotebook/blob/main/Exerc_PANDAS.ipynb\" target=\"_parent\"><img src=\"https://colab.research.google.com/assets/colab-badge.svg\" alt=\"Open In Colab\"/></a>"
      ]
    },
    {
      "cell_type": "code",
      "metadata": {
        "id": "ThBJnj31mhck"
      },
      "source": [
        "import numpy as np\n",
        "import pandas as pd"
      ],
      "execution_count": null,
      "outputs": []
    },
    {
      "cell_type": "code",
      "metadata": {
        "id": "vDdrDEY-MJB_"
      },
      "source": [
        "reviews.groupby('points').points.count() #value_counts() is just a shortcut to this groupby() operation.\n",
        "reviews.groupby('points').price.min()\n",
        "reviews.groupby('winery').apply(lambda df: df.title.iloc[0])\n",
        "reviews.groupby(['country', 'province']).apply(lambda df: df.loc[df.points.idxmax()])\n",
        "reviews.groupby(['country']).price.agg([len, min, max]) #you can put a lot of functions"
      ],
      "execution_count": null,
      "outputs": []
    },
    {
      "cell_type": "code",
      "metadata": {
        "id": "6642rjzQWczN"
      },
      "source": [
        "countries_reviewed = reviews.groupby(['country', 'province']).description.agg([len])\n",
        "mi = countries_reviewed.index\n",
        "type(mi) #MultiIndex\n",
        "\n",
        "countries_reviewed.reset_index() #for converting back to a regular index\n",
        "countries_reviewed.sort_values(by='len')\n",
        "countries_reviewed.sort_values(by='len', ascending=False)\n",
        "countries_reviewed.sort_index()\n",
        "countries_reviewed.sort_values(by=['country', 'len'])"
      ],
      "execution_count": null,
      "outputs": []
    },
    {
      "cell_type": "code",
      "metadata": {
        "id": "EGKUcV10vITl"
      },
      "source": [
        "reviews.taster_twitter_handle.replace(\"@kerinokeefe\", \"@kerino\")\n",
        "dtype = reviews.points.dtype\n",
        "point_strings = reviews.points.astype('str')"
      ],
      "execution_count": null,
      "outputs": []
    },
    {
      "cell_type": "code",
      "metadata": {
        "id": "jb0qaM4M29E2"
      },
      "source": [
        "reviews.rename(columns={'points': 'score'})\n",
        "reviews.rename(index={0: 'firstEntry', 1: 'secondEntry'})\n",
        "reviews.rename_axis(\"wines\", axis='rows').rename_axis(\"fields\", axis='columns')"
      ],
      "execution_count": null,
      "outputs": []
    },
    {
      "cell_type": "code",
      "metadata": {
        "id": "ppeDPKgu4c8S"
      },
      "source": [
        "canadian_youtube = pd.read_csv(\"../input/youtube-new/CAvideos.csv\")\n",
        "british_youtube = pd.read_csv(\"../input/youtube-new/GBvideos.csv\")\n",
        "\n",
        "pd.concat([canadian_youtube, british_youtube])"
      ],
      "execution_count": null,
      "outputs": []
    },
    {
      "cell_type": "code",
      "metadata": {
        "id": "pL6cezG24dzx"
      },
      "source": [
        "left = canadian_youtube.set_index(['title', 'trending_date'])\n",
        "right = british_youtube.set_index(['title', 'trending_date'])\n",
        "\n",
        "left.join(right, lsuffix='_CAN', rsuffix='_UK') #The lsuffix and rsuffix parameters are necessary because the data has the same column names"
      ],
      "execution_count": null,
      "outputs": []
    },
    {
      "cell_type": "code",
      "metadata": {
        "id": "4ljyiFASmvc8"
      },
      "source": [
        "review_points_mean = reviews.points.mean()\n",
        "reviews.points.map(lambda p: p - review_points_mean)"
      ],
      "execution_count": null,
      "outputs": []
    },
    {
      "cell_type": "code",
      "metadata": {
        "id": "l9R1j_JZzal-"
      },
      "source": [
        "bargain_idx = (reviews.points / reviews.price).idxmax()\n",
        "bargain_wine = reviews.loc[bargain_idx, 'title']"
      ],
      "execution_count": null,
      "outputs": []
    },
    {
      "cell_type": "code",
      "metadata": {
        "id": "Hh6TEC2tvITi"
      },
      "source": [
        "n_trop = reviews.description.map(lambda desc: \"tropical\" in desc).sum()\n",
        "n_fruity = reviews.description.map(lambda desc: \"fruity\" in desc).sum()\n",
        "descriptor_counts = pd.Series([n_trop, n_fruity], index=['tropical', 'fruity'])"
      ],
      "execution_count": null,
      "outputs": []
    },
    {
      "cell_type": "code",
      "metadata": {
        "id": "GXECRZ6dxPSe"
      },
      "source": [
        "def stars(row):\n",
        "    if row.country=='Canada':\n",
        "        return 3\n",
        "    elif row.points>= 95:\n",
        "        return 3\n",
        "    elif row.points>= 85:\n",
        "        return 2\n",
        "    else:\n",
        "        return 1\n",
        "star_ratings = reviews.apply(stars, axis='columns')"
      ],
      "execution_count": null,
      "outputs": []
    },
    {
      "cell_type": "code",
      "metadata": {
        "id": "Gm2Z8YthVbKf"
      },
      "source": [
        "#1\n",
        "sample_reviews = reviews.iloc[[1,2,3,5,8]]"
      ],
      "execution_count": null,
      "outputs": []
    },
    {
      "cell_type": "code",
      "metadata": {
        "id": "59AUYFxWVkY-"
      },
      "source": [
        "#2\n",
        "reviews.loc[reviews.country.isin(['Italy', 'France'])]\n",
        "reviews.loc[reviews.price.notnull()]\n",
        "reviews['critic'] = 'everyone' # cria uma variavel e add uma constante ('everyone')\n",
        "reviews['index_backwards'] = range(len(reviews), 0, -1)"
      ],
      "execution_count": null,
      "outputs": []
    },
    {
      "cell_type": "code",
      "metadata": {
        "id": "FJAeQ9VNVqad"
      },
      "source": [
        "#3\n",
        "cols = ['country', 'province', 'region_1', 'region_2']\n",
        "indices = [0, 1, 10, 100]\n",
        "df = reviews.loc[indices, cols]"
      ],
      "execution_count": null,
      "outputs": []
    },
    {
      "cell_type": "code",
      "metadata": {
        "id": "Scdj1UKaXnwm"
      },
      "source": [
        "#4 loc eh intervalo [0:n] e iloc eh intervalo [0:n[\n",
        "#Entao para pegar as 100 primeiras observacoes\n",
        "cols = ['country', 'variety']\n",
        "df = reviews.loc[:99, cols]\n",
        "#ou\n",
        "cols_idx = [0, 11]\n",
        "df = reviews.iloc[:100, cols_idx]"
      ],
      "execution_count": null,
      "outputs": []
    },
    {
      "cell_type": "code",
      "metadata": {
        "id": "k6N2i4zMYdV9"
      },
      "source": [
        "#5\n",
        "italian_wines = reviews[reviews.country=='Italy']"
      ],
      "execution_count": null,
      "outputs": []
    },
    {
      "cell_type": "code",
      "metadata": {
        "id": "3514nw3Cet4c"
      },
      "source": [
        "#6\n",
        "top_oceania_wines = reviews.loc[reviews.country.isin(['Australia', 'New Zealand'])&(reviews.points>=95)]\n"
      ],
      "execution_count": null,
      "outputs": []
    },
    {
      "cell_type": "code",
      "metadata": {
        "id": "1Lv6DhXSjj14"
      },
      "source": [
        "reviews.taster_name.unique() #lista todas as respostas unicas da variavel categorica\n",
        "reviews.taster_name.value_counts() # lista as respostas unicas e ainda mostra sua frequencia "
      ],
      "execution_count": null,
      "outputs": []
    }
  ]
}