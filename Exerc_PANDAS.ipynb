{
  "nbformat": 4,
  "nbformat_minor": 0,
  "metadata": {
    "colab": {
      "name": "Exerc_PANDAS.ipynb",
      "provenance": [],
      "authorship_tag": "ABX9TyNf5HmKAlw5zxtgB5ZCRcrn",
      "include_colab_link": true
    },
    "kernelspec": {
      "name": "python3",
      "display_name": "Python 3"
    },
    "language_info": {
      "name": "python"
    }
  },
  "cells": [
    {
      "cell_type": "markdown",
      "metadata": {
        "id": "view-in-github",
        "colab_type": "text"
      },
      "source": [
        "<a href=\"https://colab.research.google.com/github/duartele/exerc-jupyternotebook/blob/main/Exerc_PANDAS.ipynb\" target=\"_parent\"><img src=\"https://colab.research.google.com/assets/colab-badge.svg\" alt=\"Open In Colab\"/></a>"
      ]
    },
    {
      "cell_type": "code",
      "metadata": {
        "id": "Gm2Z8YthVbKf"
      },
      "source": [
        "#1\n",
        "sample_reviews = reviews.iloc[[1,2,3,5,8]]"
      ],
      "execution_count": null,
      "outputs": []
    },
    {
      "cell_type": "code",
      "metadata": {
        "id": "59AUYFxWVkY-"
      },
      "source": [
        "#2\n",
        "reviews.loc[reviews.country.isin(['Italy', 'France'])]\n",
        "reviews.loc[reviews.price.notnull()]\n",
        "reviews['critic'] = 'everyone' # cria uma variavel e add uma constante ('everyone')\n",
        "reviews['index_backwards'] = range(len(reviews), 0, -1)"
      ],
      "execution_count": null,
      "outputs": []
    },
    {
      "cell_type": "code",
      "metadata": {
        "id": "FJAeQ9VNVqad"
      },
      "source": [
        "#3\n",
        "cols = ['country', 'province', 'region_1', 'region_2']\n",
        "indices = [0, 1, 10, 100]\n",
        "df = reviews.loc[indices, cols]"
      ],
      "execution_count": null,
      "outputs": []
    }
  ]
}