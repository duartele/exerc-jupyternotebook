{
  "nbformat": 4,
  "nbformat_minor": 0,
  "metadata": {
    "colab": {
      "name": "CNN.ipynb",
      "provenance": [],
      "authorship_tag": "ABX9TyPosw0xIN7jMJ85GxHLpbpK",
      "include_colab_link": true
    },
    "kernelspec": {
      "name": "python3",
      "display_name": "Python 3"
    },
    "language_info": {
      "name": "python"
    }
  },
  "cells": [
    {
      "cell_type": "markdown",
      "metadata": {
        "id": "view-in-github",
        "colab_type": "text"
      },
      "source": [
        "<a href=\"https://colab.research.google.com/github/duartele/exerc-jupyternotebook/blob/main/CNN.ipynb\" target=\"_parent\"><img src=\"https://colab.research.google.com/assets/colab-badge.svg\" alt=\"Open In Colab\"/></a>"
      ]
    },
    {
      "cell_type": "markdown",
      "source": [
        "The Convolutional Classifier usually has 2 parts: concolutional base - to extrat features and a dense head - determine the class.\n",
        "\n",
        "These days, we don't trained a model from scratch, we reuse the base of a pretrained model and attach a untrained head - this is called transfer learning."
      ],
      "metadata": {
        "id": "HjE9vp8jsbSO"
      }
    },
    {
      "cell_type": "markdown",
      "source": [
        "The most commonly used dataset for pretraining is ImageNet, a large dataset of many kind of natural images. Keras includes a variety models pretrained on ImageNet in its applications module. The pretrained model we'll use is called VGG16."
      ],
      "metadata": {
        "id": "lQ2I0zWHtlVD"
      }
    },
    {
      "cell_type": "code",
      "source": [
        "pretrained_base = tf.keras.models.load_model(\n",
        "    '../input/cv-course-models/cv-course-models/vgg16-pretrained-base',\n",
        ")\n",
        "pretrained_base.trainable = False"
      ],
      "metadata": {
        "id": "dsSkDJ_Mtkh-"
      },
      "execution_count": null,
      "outputs": []
    },
    {
      "cell_type": "markdown",
      "source": [
        "Next, we attach the classifier head. For this example, we'll use a layer of hidden units (the first Dense layer) followed by a layer to transform the outputs to a probability score for class 1, Truck. The Flatten layer transforms the two dimensional outputs of the base into the one dimensional inputs needed by the head."
      ],
      "metadata": {
        "id": "swnx172Lt9O2"
      }
    },
    {
      "cell_type": "code",
      "execution_count": null,
      "metadata": {
        "id": "9-m9cBUKsTNW"
      },
      "outputs": [],
      "source": [
        "from tensorflow import keras\n",
        "from tensorflow.keras import layers\n",
        "\n",
        "model = keras.Sequential([\n",
        "    pretrained_base,\n",
        "    layers.Flatten(),\n",
        "    layers.Dense(6, activation='relu'),\n",
        "    layers.Dense(1, activation='sigmoid'),\n",
        "])"
      ]
    },
    {
      "cell_type": "code",
      "source": [
        "model.compile(\n",
        "    optimizer='adam',\n",
        "    loss='binary_crossentropy',\n",
        "    metrics=['binary_accuracy'],\n",
        ")\n",
        "\n",
        "history = model.fit(\n",
        "    ds_train,\n",
        "    validation_data=ds_valid,\n",
        "    epochs=30,\n",
        "    verbose=0,\n",
        ")"
      ],
      "metadata": {
        "id": "lYtb31QPuSN2"
      },
      "execution_count": null,
      "outputs": []
    },
    {
      "cell_type": "code",
      "source": [
        "import pandas as pd\n",
        "\n",
        "history_frame = pd.DataFrame(history.history)\n",
        "history_frame.loc[:, ['loss', 'val_loss']].plot()\n",
        "history_frame.loc[:, ['binary_accuracy', 'val_binary_accuracy']].plot();"
      ],
      "metadata": {
        "id": "3k12iGoeuhAA"
      },
      "execution_count": null,
      "outputs": []
    },
    {
      "cell_type": "code",
      "source": [
        ""
      ],
      "metadata": {
        "id": "S9bxzZc_uhvo"
      },
      "execution_count": null,
      "outputs": []
    }
  ]
}